{
 "cells": [
  {
   "cell_type": "code",
   "execution_count": 1,
   "id": "fbf1adab",
   "metadata": {},
   "outputs": [],
   "source": [
    "# import pandas\n",
    "import pandas as pd\n",
    "\n",
    "#load data\n",
    "df_orders = pd.read_csv('/datasets/instacart_orders.csv', sep = ';')\n",
    "df_products = pd.read_csv('/datasets/products.csv', sep = ';')\n",
    "df_order_products = pd.read_csv('/datasets/order_products.csv', sep = ';')\n",
    "df_aisles = pd.read_csv('/datasets/aisles.csv', sep = ';')\n",
    "df_departments = pd.read_csv('/datasets/departments.csv', sep = ';')"
   ]
  },
  {
   "cell_type": "markdown",
   "id": "07357848-dc64-4156-9cc3-01ff4365226d",
   "metadata": {},
   "source": [
    "## Find and remove duplicate values (and describe why you make your choices)"
   ]
  },
  {
   "cell_type": "markdown",
   "id": "f179f0a9",
   "metadata": {},
   "source": [
    "### `orders` data frame"
   ]
  },
  {
   "cell_type": "code",
   "execution_count": 2,
   "id": "b99297a5-405a-463d-8535-9adc3da4ad74",
   "metadata": {},
   "outputs": [
    {
     "name": "stdout",
     "output_type": "stream",
     "text": [
      "number of duplicates:  15\n",
      "\n"
     ]
    },
    {
     "data": {
      "text/html": [
       "<div>\n",
       "<style scoped>\n",
       "    .dataframe tbody tr th:only-of-type {\n",
       "        vertical-align: middle;\n",
       "    }\n",
       "\n",
       "    .dataframe tbody tr th {\n",
       "        vertical-align: top;\n",
       "    }\n",
       "\n",
       "    .dataframe thead th {\n",
       "        text-align: right;\n",
       "    }\n",
       "</style>\n",
       "<table border=\"1\" class=\"dataframe\">\n",
       "  <thead>\n",
       "    <tr style=\"text-align: right;\">\n",
       "      <th></th>\n",
       "      <th>order_id</th>\n",
       "      <th>user_id</th>\n",
       "      <th>order_number</th>\n",
       "      <th>order_dow</th>\n",
       "      <th>order_hour_of_day</th>\n",
       "      <th>days_since_prior_order</th>\n",
       "    </tr>\n",
       "  </thead>\n",
       "  <tbody>\n",
       "    <tr>\n",
       "      <th>145574</th>\n",
       "      <td>794638</td>\n",
       "      <td>50898</td>\n",
       "      <td>24</td>\n",
       "      <td>3</td>\n",
       "      <td>2</td>\n",
       "      <td>2.0</td>\n",
       "    </tr>\n",
       "    <tr>\n",
       "      <th>223105</th>\n",
       "      <td>2160484</td>\n",
       "      <td>107525</td>\n",
       "      <td>16</td>\n",
       "      <td>3</td>\n",
       "      <td>2</td>\n",
       "      <td>30.0</td>\n",
       "    </tr>\n",
       "    <tr>\n",
       "      <th>230807</th>\n",
       "      <td>1918001</td>\n",
       "      <td>188546</td>\n",
       "      <td>14</td>\n",
       "      <td>3</td>\n",
       "      <td>2</td>\n",
       "      <td>16.0</td>\n",
       "    </tr>\n",
       "    <tr>\n",
       "      <th>266232</th>\n",
       "      <td>1782114</td>\n",
       "      <td>106752</td>\n",
       "      <td>1</td>\n",
       "      <td>3</td>\n",
       "      <td>2</td>\n",
       "      <td>NaN</td>\n",
       "    </tr>\n",
       "    <tr>\n",
       "      <th>273805</th>\n",
       "      <td>1112182</td>\n",
       "      <td>202304</td>\n",
       "      <td>84</td>\n",
       "      <td>3</td>\n",
       "      <td>2</td>\n",
       "      <td>6.0</td>\n",
       "    </tr>\n",
       "    <tr>\n",
       "      <th>284038</th>\n",
       "      <td>2845099</td>\n",
       "      <td>31189</td>\n",
       "      <td>11</td>\n",
       "      <td>3</td>\n",
       "      <td>2</td>\n",
       "      <td>7.0</td>\n",
       "    </tr>\n",
       "    <tr>\n",
       "      <th>311713</th>\n",
       "      <td>1021560</td>\n",
       "      <td>53767</td>\n",
       "      <td>3</td>\n",
       "      <td>3</td>\n",
       "      <td>2</td>\n",
       "      <td>9.0</td>\n",
       "    </tr>\n",
       "    <tr>\n",
       "      <th>321100</th>\n",
       "      <td>408114</td>\n",
       "      <td>68324</td>\n",
       "      <td>4</td>\n",
       "      <td>3</td>\n",
       "      <td>2</td>\n",
       "      <td>18.0</td>\n",
       "    </tr>\n",
       "    <tr>\n",
       "      <th>323900</th>\n",
       "      <td>1919531</td>\n",
       "      <td>191501</td>\n",
       "      <td>32</td>\n",
       "      <td>3</td>\n",
       "      <td>2</td>\n",
       "      <td>7.0</td>\n",
       "    </tr>\n",
       "    <tr>\n",
       "      <th>345917</th>\n",
       "      <td>2232988</td>\n",
       "      <td>82565</td>\n",
       "      <td>1</td>\n",
       "      <td>3</td>\n",
       "      <td>2</td>\n",
       "      <td>NaN</td>\n",
       "    </tr>\n",
       "    <tr>\n",
       "      <th>371905</th>\n",
       "      <td>391768</td>\n",
       "      <td>57671</td>\n",
       "      <td>19</td>\n",
       "      <td>3</td>\n",
       "      <td>2</td>\n",
       "      <td>10.0</td>\n",
       "    </tr>\n",
       "    <tr>\n",
       "      <th>394347</th>\n",
       "      <td>467134</td>\n",
       "      <td>63189</td>\n",
       "      <td>21</td>\n",
       "      <td>3</td>\n",
       "      <td>2</td>\n",
       "      <td>2.0</td>\n",
       "    </tr>\n",
       "    <tr>\n",
       "      <th>411408</th>\n",
       "      <td>1286742</td>\n",
       "      <td>183220</td>\n",
       "      <td>48</td>\n",
       "      <td>3</td>\n",
       "      <td>2</td>\n",
       "      <td>4.0</td>\n",
       "    </tr>\n",
       "    <tr>\n",
       "      <th>415163</th>\n",
       "      <td>2282673</td>\n",
       "      <td>86751</td>\n",
       "      <td>49</td>\n",
       "      <td>3</td>\n",
       "      <td>2</td>\n",
       "      <td>2.0</td>\n",
       "    </tr>\n",
       "    <tr>\n",
       "      <th>441599</th>\n",
       "      <td>2125197</td>\n",
       "      <td>14050</td>\n",
       "      <td>48</td>\n",
       "      <td>3</td>\n",
       "      <td>2</td>\n",
       "      <td>3.0</td>\n",
       "    </tr>\n",
       "  </tbody>\n",
       "</table>\n",
       "</div>"
      ],
      "text/plain": [
       "        order_id  user_id  order_number  order_dow  order_hour_of_day  \\\n",
       "145574    794638    50898            24          3                  2   \n",
       "223105   2160484   107525            16          3                  2   \n",
       "230807   1918001   188546            14          3                  2   \n",
       "266232   1782114   106752             1          3                  2   \n",
       "273805   1112182   202304            84          3                  2   \n",
       "284038   2845099    31189            11          3                  2   \n",
       "311713   1021560    53767             3          3                  2   \n",
       "321100    408114    68324             4          3                  2   \n",
       "323900   1919531   191501            32          3                  2   \n",
       "345917   2232988    82565             1          3                  2   \n",
       "371905    391768    57671            19          3                  2   \n",
       "394347    467134    63189            21          3                  2   \n",
       "411408   1286742   183220            48          3                  2   \n",
       "415163   2282673    86751            49          3                  2   \n",
       "441599   2125197    14050            48          3                  2   \n",
       "\n",
       "        days_since_prior_order  \n",
       "145574                     2.0  \n",
       "223105                    30.0  \n",
       "230807                    16.0  \n",
       "266232                     NaN  \n",
       "273805                     6.0  \n",
       "284038                     7.0  \n",
       "311713                     9.0  \n",
       "321100                    18.0  \n",
       "323900                     7.0  \n",
       "345917                     NaN  \n",
       "371905                    10.0  \n",
       "394347                     2.0  \n",
       "411408                     4.0  \n",
       "415163                     2.0  \n",
       "441599                     3.0  "
      ]
     },
     "execution_count": 2,
     "metadata": {},
     "output_type": "execute_result"
    }
   ],
   "source": [
    "# Check for duplicated orders\n",
    "\n",
    "print('number of duplicates: ', df_orders.duplicated().sum())\n",
    "print()\n",
    "df_orders[df_orders.duplicated()]"
   ]
  },
  {
   "cell_type": "markdown",
   "id": "e3bee61a",
   "metadata": {},
   "source": [
    "There are 15 duplicate orders."
   ]
  },
  {
   "cell_type": "code",
   "execution_count": 3,
   "id": "0d44de5d",
   "metadata": {},
   "outputs": [
    {
     "name": "stdout",
     "output_type": "stream",
     "text": [
      "0    84090\n",
      "1    82185\n",
      "2    65833\n",
      "5    63488\n",
      "6    62649\n",
      "3    60912\n",
      "4    59810\n",
      "Name: order_dow, dtype: int64\n",
      "\n",
      "10    40578\n",
      "11    40032\n",
      "15    39789\n",
      "14    39631\n",
      "13    39007\n",
      "16    38112\n",
      "12    38034\n",
      "9     35896\n",
      "17    31930\n",
      "18    25510\n",
      "8     25024\n",
      "19    19547\n",
      "20    14624\n",
      "7     13043\n",
      "21    11019\n",
      "22     8512\n",
      "23     5611\n",
      "6      4215\n",
      "0      3180\n",
      "1      1763\n",
      "5      1371\n",
      "2      1004\n",
      "3       770\n",
      "4       765\n",
      "Name: order_hour_of_day, dtype: int64\n"
     ]
    }
   ],
   "source": [
    "# Check for all orders placed Wednesday at 2:00 AM\n",
    "\n",
    "print(df_orders['order_dow'].value_counts())\n",
    "print()\n",
    "print(df_orders['order_hour_of_day'].value_counts())"
   ]
  },
  {
   "cell_type": "markdown",
   "id": "4d45a4fa",
   "metadata": {},
   "source": [
    "The documentation does not say which day of the week is 0, and the value counts give no clear indication. I will presume for now that 0 = Monday, which means 2 = Wednesday. \n",
    "\n",
    "Since the hour column ranges from 0 - 23, I will assume that 0 = 1 AM, which means 1 = 2 AM."
   ]
  },
  {
   "cell_type": "code",
   "execution_count": 4,
   "id": "4b726cc2",
   "metadata": {},
   "outputs": [
    {
     "data": {
      "text/html": [
       "<div>\n",
       "<style scoped>\n",
       "    .dataframe tbody tr th:only-of-type {\n",
       "        vertical-align: middle;\n",
       "    }\n",
       "\n",
       "    .dataframe tbody tr th {\n",
       "        vertical-align: top;\n",
       "    }\n",
       "\n",
       "    .dataframe thead th {\n",
       "        text-align: right;\n",
       "    }\n",
       "</style>\n",
       "<table border=\"1\" class=\"dataframe\">\n",
       "  <thead>\n",
       "    <tr style=\"text-align: right;\">\n",
       "      <th></th>\n",
       "      <th>order_id</th>\n",
       "      <th>user_id</th>\n",
       "      <th>order_number</th>\n",
       "      <th>order_dow</th>\n",
       "      <th>order_hour_of_day</th>\n",
       "      <th>days_since_prior_order</th>\n",
       "    </tr>\n",
       "  </thead>\n",
       "  <tbody>\n",
       "    <tr>\n",
       "      <th>2412</th>\n",
       "      <td>1687280</td>\n",
       "      <td>186721</td>\n",
       "      <td>22</td>\n",
       "      <td>2</td>\n",
       "      <td>1</td>\n",
       "      <td>8.0</td>\n",
       "    </tr>\n",
       "    <tr>\n",
       "      <th>3630</th>\n",
       "      <td>1596235</td>\n",
       "      <td>80214</td>\n",
       "      <td>25</td>\n",
       "      <td>2</td>\n",
       "      <td>1</td>\n",
       "      <td>30.0</td>\n",
       "    </tr>\n",
       "    <tr>\n",
       "      <th>5906</th>\n",
       "      <td>90990</td>\n",
       "      <td>25129</td>\n",
       "      <td>32</td>\n",
       "      <td>2</td>\n",
       "      <td>1</td>\n",
       "      <td>10.0</td>\n",
       "    </tr>\n",
       "    <tr>\n",
       "      <th>6414</th>\n",
       "      <td>3017131</td>\n",
       "      <td>10221</td>\n",
       "      <td>74</td>\n",
       "      <td>2</td>\n",
       "      <td>1</td>\n",
       "      <td>7.0</td>\n",
       "    </tr>\n",
       "    <tr>\n",
       "      <th>6421</th>\n",
       "      <td>2949405</td>\n",
       "      <td>82419</td>\n",
       "      <td>4</td>\n",
       "      <td>2</td>\n",
       "      <td>1</td>\n",
       "      <td>5.0</td>\n",
       "    </tr>\n",
       "    <tr>\n",
       "      <th>...</th>\n",
       "      <td>...</td>\n",
       "      <td>...</td>\n",
       "      <td>...</td>\n",
       "      <td>...</td>\n",
       "      <td>...</td>\n",
       "      <td>...</td>\n",
       "    </tr>\n",
       "    <tr>\n",
       "      <th>468911</th>\n",
       "      <td>2398512</td>\n",
       "      <td>130651</td>\n",
       "      <td>6</td>\n",
       "      <td>2</td>\n",
       "      <td>1</td>\n",
       "      <td>12.0</td>\n",
       "    </tr>\n",
       "    <tr>\n",
       "      <th>470737</th>\n",
       "      <td>560744</td>\n",
       "      <td>204022</td>\n",
       "      <td>22</td>\n",
       "      <td>2</td>\n",
       "      <td>1</td>\n",
       "      <td>2.0</td>\n",
       "    </tr>\n",
       "    <tr>\n",
       "      <th>471576</th>\n",
       "      <td>2752323</td>\n",
       "      <td>201031</td>\n",
       "      <td>5</td>\n",
       "      <td>2</td>\n",
       "      <td>1</td>\n",
       "      <td>30.0</td>\n",
       "    </tr>\n",
       "    <tr>\n",
       "      <th>475550</th>\n",
       "      <td>2534832</td>\n",
       "      <td>178899</td>\n",
       "      <td>16</td>\n",
       "      <td>2</td>\n",
       "      <td>1</td>\n",
       "      <td>5.0</td>\n",
       "    </tr>\n",
       "    <tr>\n",
       "      <th>476573</th>\n",
       "      <td>47461</td>\n",
       "      <td>184951</td>\n",
       "      <td>24</td>\n",
       "      <td>2</td>\n",
       "      <td>1</td>\n",
       "      <td>3.0</td>\n",
       "    </tr>\n",
       "  </tbody>\n",
       "</table>\n",
       "<p>240 rows × 6 columns</p>\n",
       "</div>"
      ],
      "text/plain": [
       "        order_id  user_id  order_number  order_dow  order_hour_of_day  \\\n",
       "2412     1687280   186721            22          2                  1   \n",
       "3630     1596235    80214            25          2                  1   \n",
       "5906       90990    25129            32          2                  1   \n",
       "6414     3017131    10221            74          2                  1   \n",
       "6421     2949405    82419             4          2                  1   \n",
       "...          ...      ...           ...        ...                ...   \n",
       "468911   2398512   130651             6          2                  1   \n",
       "470737    560744   204022            22          2                  1   \n",
       "471576   2752323   201031             5          2                  1   \n",
       "475550   2534832   178899            16          2                  1   \n",
       "476573     47461   184951            24          2                  1   \n",
       "\n",
       "        days_since_prior_order  \n",
       "2412                       8.0  \n",
       "3630                      30.0  \n",
       "5906                      10.0  \n",
       "6414                       7.0  \n",
       "6421                       5.0  \n",
       "...                        ...  \n",
       "468911                    12.0  \n",
       "470737                     2.0  \n",
       "471576                    30.0  \n",
       "475550                     5.0  \n",
       "476573                     3.0  \n",
       "\n",
       "[240 rows x 6 columns]"
      ]
     },
     "execution_count": 4,
     "metadata": {},
     "output_type": "execute_result"
    }
   ],
   "source": [
    "df_orders[(df_orders['order_dow'] == 2) & (df_orders['order_hour_of_day'] == 1)]"
   ]
  },
  {
   "cell_type": "markdown",
   "id": "507c481d",
   "metadata": {},
   "source": [
    "There are 240 orders on Wednesday at 2:00 AM."
   ]
  },
  {
   "cell_type": "code",
   "execution_count": 5,
   "id": "480563c7",
   "metadata": {},
   "outputs": [],
   "source": [
    "# Remove duplicate orders\n",
    "\n",
    "df_orders.drop_duplicates(inplace = True)"
   ]
  },
  {
   "cell_type": "code",
   "execution_count": 6,
   "id": "0b2396a2",
   "metadata": {},
   "outputs": [
    {
     "name": "stdout",
     "output_type": "stream",
     "text": [
      "number of duplicates:  0\n"
     ]
    }
   ],
   "source": [
    "# Double check for duplicate rows\n",
    "\n",
    "print('number of duplicates: ', df_orders.duplicated().sum())"
   ]
  },
  {
   "cell_type": "code",
   "execution_count": 7,
   "id": "f6113ef1",
   "metadata": {
    "scrolled": true
   },
   "outputs": [
    {
     "name": "stdout",
     "output_type": "stream",
     "text": [
      "number of duplicate order_ids:  0\n"
     ]
    }
   ],
   "source": [
    "# Double check for duplicate order IDs only\n",
    "\n",
    "print('number of duplicate order_ids: ', df_orders['order_id'].duplicated().sum())"
   ]
  },
  {
   "cell_type": "markdown",
   "id": "266cf3b0",
   "metadata": {},
   "source": [
    "There are no duplicate orders or duplicate order_ids."
   ]
  },
  {
   "cell_type": "markdown",
   "id": "45e6bc46",
   "metadata": {},
   "source": [
    "### `products` data frame"
   ]
  },
  {
   "cell_type": "code",
   "execution_count": 8,
   "id": "5f526b5b-8175-46fa-a0fd-441767d50e64",
   "metadata": {},
   "outputs": [
    {
     "name": "stdout",
     "output_type": "stream",
     "text": [
      "number of duplicates:  0\n"
     ]
    }
   ],
   "source": [
    "# Check for fully duplicate rows\n",
    "\n",
    "print('number of duplicates: ', df_products.duplicated().sum())"
   ]
  },
  {
   "cell_type": "code",
   "execution_count": 9,
   "id": "88daa4f4",
   "metadata": {},
   "outputs": [
    {
     "name": "stdout",
     "output_type": "stream",
     "text": [
      "number of duplicate product_ids:  0\n"
     ]
    }
   ],
   "source": [
    "# Check for just duplicate product IDs\n",
    "\n",
    "print('number of duplicate product_ids: ', df_products['product_id'].duplicated().sum())"
   ]
  },
  {
   "cell_type": "code",
   "execution_count": 10,
   "id": "c773f0bf",
   "metadata": {},
   "outputs": [
    {
     "name": "stdout",
     "output_type": "stream",
     "text": [
      "number of duplicate product_names:  1361\n",
      "\n",
      "     product_id product_name  aisle_id  department_id\n",
      "71           72          NaN       100             21\n",
      "109         110          NaN       100             21\n",
      "296         297          NaN       100             21\n",
      "416         417          NaN       100             21\n",
      "436         437          NaN       100             21\n",
      "\n",
      "number of NaN duplicate product_names:  1258\n"
     ]
    }
   ],
   "source": [
    "# Check for just duplicate product names (convert names to lowercase to compare better)\n",
    "\n",
    "print('number of duplicate product_names: ', df_products['product_name'].str.lower().duplicated().sum())\n",
    "print()\n",
    "print(df_products[df_products['product_name'].str.lower().duplicated()].head())\n",
    "print()\n",
    "print('number of NaN duplicate product_names: ', df_products['product_name'].isna().sum())"
   ]
  },
  {
   "cell_type": "markdown",
   "id": "909fc4cf",
   "metadata": {},
   "source": [
    "There are 1361 duplicate prodoucts of which 1258 are NaN."
   ]
  },
  {
   "cell_type": "code",
   "execution_count": 11,
   "id": "01efd02e",
   "metadata": {},
   "outputs": [
    {
     "name": "stdout",
     "output_type": "stream",
     "text": [
      "number of non-NaN duplicate product_names:  104\n"
     ]
    }
   ],
   "source": [
    "# Check for duplicate product names that aren't missing\n",
    "\n",
    "print('number of non-NaN duplicate product_names: ', df_products['product_name'].str.lower().dropna().duplicated().sum())"
   ]
  },
  {
   "cell_type": "markdown",
   "id": "9cfd36fc",
   "metadata": {},
   "source": [
    "There are 104 duplicate products not including missing values."
   ]
  },
  {
   "cell_type": "markdown",
   "id": "60f30db1",
   "metadata": {},
   "source": [
    "### `departments` data frame"
   ]
  },
  {
   "cell_type": "code",
   "execution_count": 12,
   "id": "fb410ad4-0fbf-4b80-bb09-23fdea79afe3",
   "metadata": {},
   "outputs": [
    {
     "name": "stdout",
     "output_type": "stream",
     "text": [
      "number of duplicate rows:  0\n",
      "number of duplicate department_ids:  0\n",
      "number of duplicate departments:  0\n"
     ]
    }
   ],
   "source": [
    "print('number of duplicate rows: ', df_departments.duplicated().sum())\n",
    "print('number of duplicate department_ids: ', df_departments['department_id'].duplicated().sum())\n",
    "print('number of duplicate departments: ', df_departments['department'].duplicated().sum())"
   ]
  },
  {
   "cell_type": "markdown",
   "id": "32ebb898",
   "metadata": {},
   "source": [
    "There are no duplicates in df_departments."
   ]
  },
  {
   "cell_type": "markdown",
   "id": "889349c1",
   "metadata": {},
   "source": [
    "### `aisles` data frame"
   ]
  },
  {
   "cell_type": "code",
   "execution_count": 13,
   "id": "9da89fb9-4679-40f5-ad0d-c34df753a3f8",
   "metadata": {},
   "outputs": [
    {
     "name": "stdout",
     "output_type": "stream",
     "text": [
      "number of duplicate rows:  0\n",
      "number of duplicate aisle_ids:  0\n",
      "number of duplicate aisles:  0\n"
     ]
    }
   ],
   "source": [
    "print('number of duplicate rows: ', df_aisles.duplicated().sum())\n",
    "print('number of duplicate aisle_ids: ', df_aisles['aisle_id'].duplicated().sum())\n",
    "print('number of duplicate aisles: ', df_aisles['aisle'].duplicated().sum())"
   ]
  },
  {
   "cell_type": "markdown",
   "id": "cb5fa351",
   "metadata": {},
   "source": [
    "There are no duplicates in df_aisles."
   ]
  },
  {
   "cell_type": "markdown",
   "id": "274cd06a",
   "metadata": {},
   "source": [
    "### `order_products` data frame"
   ]
  },
  {
   "cell_type": "code",
   "execution_count": 14,
   "id": "52326689-84a8-4b8f-a881-7c68780f62c9",
   "metadata": {},
   "outputs": [
    {
     "name": "stdout",
     "output_type": "stream",
     "text": [
      "number of duplicate rows:  0\n"
     ]
    }
   ],
   "source": [
    "# Check for fullly duplicate rows\n",
    "\n",
    "print('number of duplicate rows: ', df_order_products.duplicated().sum())"
   ]
  },
  {
   "cell_type": "markdown",
   "id": "3ad1d28d",
   "metadata": {},
   "source": [
    "There are no duplicate rows."
   ]
  },
  {
   "cell_type": "code",
   "execution_count": 15,
   "id": "7b861391",
   "metadata": {},
   "outputs": [
    {
     "name": "stdout",
     "output_type": "stream",
     "text": [
      "number of duplicate order_ids and product_ids:  0\n",
      "\n",
      "number of duplicate order_ids and add_to_cart_orders:  766\n",
      "\n",
      "        order_id  product_id  add_to_cart_order  reordered\n",
      "64336    1717990       39408                NaN          0\n",
      "70057     264710       41602                NaN          0\n",
      "128360   2449164       14386                NaN          0\n",
      "137029   3347453       30727                NaN          0\n",
      "137958   2136777       45106                NaN          0\n",
      "\n",
      "number of duplicate order_ids and add_to_cart_orders:  0\n"
     ]
    }
   ],
   "source": [
    "# Double check for any other tricky duplicates\n",
    "\n",
    "print('number of duplicate order_ids and product_ids: ', df_order_products.duplicated(subset=['order_id','product_id']).sum())\n",
    "print()\n",
    "print('number of duplicate order_ids and add_to_cart_orders: ', df_order_products.duplicated(subset=['order_id','add_to_cart_order']).sum())\n",
    "print()\n",
    "print(df_order_products[df_order_products.duplicated(subset=['order_id','add_to_cart_order'])].head())\n",
    "print()\n",
    "print('number of duplicate order_ids and add_to_cart_orders: ', df_order_products.dropna().duplicated(subset=['order_id','add_to_cart_order']).sum())"
   ]
  },
  {
   "cell_type": "markdown",
   "id": "01704580",
   "metadata": {},
   "source": [
    "There are no rows with duplicate order_ids and product_ids, which might have been acceptable anyway.\n",
    "\n",
    "There are 766 rows with duplicate order_ids and add_to_cart_orders, which probably should not occur, but the duplicates are all NaNs. "
   ]
  },
  {
   "cell_type": "markdown",
   "id": "1e46de76",
   "metadata": {},
   "source": [
    "## Find and remove missing values\n"
   ]
  },
  {
   "cell_type": "markdown",
   "id": "c0aebd78",
   "metadata": {},
   "source": [
    "### `products` data frame"
   ]
  },
  {
   "cell_type": "code",
   "execution_count": 16,
   "id": "e96167bc",
   "metadata": {},
   "outputs": [
    {
     "name": "stdout",
     "output_type": "stream",
     "text": [
      "number of missing product_names:  1258\n",
      "number of missing product_names with aisle_id = 100:  1258\n"
     ]
    }
   ],
   "source": [
    "# Are all of the missing product names associated with aisle ID 100?\n",
    "\n",
    "print('number of missing product_names: ', df_products['product_name'].isna().sum())\n",
    "print('number of missing product_names with aisle_id = 100: ', ((df_products['product_name'].isna()) & (df_products['aisle_id'] == 100)).sum())"
   ]
  },
  {
   "cell_type": "markdown",
   "id": "49227795",
   "metadata": {},
   "source": [
    "Yes, all of the missing product names are associated with aisle ID 100."
   ]
  },
  {
   "cell_type": "code",
   "execution_count": 17,
   "id": "8fd0a541",
   "metadata": {},
   "outputs": [
    {
     "name": "stdout",
     "output_type": "stream",
     "text": [
      "number of missing product_names:  1258\n",
      "number of missing product_names with department_id = 21:  1258\n"
     ]
    }
   ],
   "source": [
    "# Are all of the missing product names associated with department ID 21?\n",
    "\n",
    "print('number of missing product_names: ', df_products['product_name'].isna().sum())\n",
    "print('number of missing product_names with department_id = 21: ', ((df_products['product_name'].isna()) & (df_products['department_id'] == 21)).sum())"
   ]
  },
  {
   "cell_type": "markdown",
   "id": "8d88a4dc",
   "metadata": {},
   "source": [
    "Yes, all of the missing product names are associated with department ID 21."
   ]
  },
  {
   "cell_type": "code",
   "execution_count": 18,
   "id": "325c3464",
   "metadata": {},
   "outputs": [
    {
     "name": "stdout",
     "output_type": "stream",
     "text": [
      "    aisle_id    aisle\n",
      "99       100  missing\n",
      "\n",
      "    department_id department\n",
      "20             21    missing\n"
     ]
    }
   ],
   "source": [
    "# What is this aisle and department?\n",
    "\n",
    "print(df_aisles[df_aisles['aisle_id'] == 100])\n",
    "print()\n",
    "print(df_departments[df_departments['department_id'] == 21])"
   ]
  },
  {
   "cell_type": "markdown",
   "id": "d1c02932",
   "metadata": {},
   "source": [
    "aisle_id of 100 and department_id of 21 both represent missing data."
   ]
  },
  {
   "cell_type": "code",
   "execution_count": 19,
   "id": "6b295120",
   "metadata": {},
   "outputs": [
    {
     "name": "stdout",
     "output_type": "stream",
     "text": [
      "number of missing product_names:  1258\n",
      "\n",
      "number of missing product_names:  0\n",
      "\n",
      "       product_id product_name  aisle_id  department_id\n",
      "37             38      Unknown       100             21\n",
      "71             72      Unknown       100             21\n",
      "109           110      Unknown       100             21\n",
      "296           297      Unknown       100             21\n",
      "416           417      Unknown       100             21\n",
      "...           ...          ...       ...            ...\n",
      "49552       49553      Unknown       100             21\n",
      "49574       49575      Unknown       100             21\n",
      "49640       49641      Unknown       100             21\n",
      "49663       49664      Unknown       100             21\n",
      "49668       49669      Unknown       100             21\n",
      "\n",
      "[1258 rows x 4 columns]\n"
     ]
    }
   ],
   "source": [
    "# Fill missing product names with 'Unknown'\n",
    "\n",
    "print('number of missing product_names: ', df_products['product_name'].isna().sum())\n",
    "print()\n",
    "df_products['product_name'].fillna('Unknown', inplace=True)\n",
    "print('number of missing product_names: ', df_products['product_name'].isna().sum())\n",
    "print()\n",
    "print(df_products[df_products['product_name'] == 'Unknown'])"
   ]
  },
  {
   "cell_type": "markdown",
   "id": "c56dc7ea",
   "metadata": {},
   "source": [
    "All the missing product names have been replaced with \"Unknown\"."
   ]
  },
  {
   "cell_type": "markdown",
   "id": "7eb45c86",
   "metadata": {},
   "source": [
    "### `orders` data frame"
   ]
  },
  {
   "cell_type": "code",
   "execution_count": 20,
   "id": "166e5a86",
   "metadata": {},
   "outputs": [
    {
     "name": "stdout",
     "output_type": "stream",
     "text": [
      "number of orders with missing values:  28817\n",
      "\n",
      "number of orders that are a customer's first order:  28817\n",
      "\n",
      "order_id                  0\n",
      "user_id                   0\n",
      "order_number              0\n",
      "order_dow                 0\n",
      "order_hour_of_day         0\n",
      "days_since_prior_order    0\n",
      "dtype: int64\n"
     ]
    }
   ],
   "source": [
    "# Are there any missing values where it's not a customer's first order?\n",
    "\n",
    "print('number of orders with missing values: ', df_orders.isna().any(axis=1).sum())\n",
    "print()\n",
    "print(\"number of orders that are a customer's first order: \", df_orders[df_orders['order_number'] == 1].shape[0])\n",
    "print()\n",
    "print(df_orders[df_orders['order_number'] != 1].isna().sum())"
   ]
  },
  {
   "cell_type": "markdown",
   "id": "a5f03d6e",
   "metadata": {},
   "source": [
    "No, every order with missing values is a customer's first order."
   ]
  },
  {
   "cell_type": "markdown",
   "id": "69dc9ca4",
   "metadata": {},
   "source": [
    "### `order_products` data frame"
   ]
  },
  {
   "cell_type": "code",
   "execution_count": 21,
   "id": "9a78e5ee",
   "metadata": {},
   "outputs": [
    {
     "name": "stdout",
     "output_type": "stream",
     "text": [
      "     order_id  product_id  add_to_cart_order  reordered\n",
      "min         4           1                  1          0\n",
      "max   3421079       49694                 64          1\n"
     ]
    }
   ],
   "source": [
    "# What are the min and max values in this column?\n",
    "# Which column??\n",
    "\n",
    "pd.set_option('display.float_format', '{:.0f}'.format)\n",
    "print(df_order_products.describe().loc[['min', 'max']])\n",
    "pd.reset_option('display.float_format')"
   ]
  },
  {
   "cell_type": "code",
   "execution_count": 22,
   "id": "ab9d0c2b",
   "metadata": {},
   "outputs": [
    {
     "name": "stdout",
     "output_type": "stream",
     "text": [
      "[2449164 1968313 2926893 1717990 1959075  844733   61355  936852  264710\n",
      " 1564093  129627  293169 2849370 1386261 3308010  903110 2136777 3347453\n",
      " 1888628  165801 2094761 1038146 2997021  813364 2256933  171934 2409109\n",
      " 1730767 1169835  733526  404157 3125735  747668 1800005 1961723  871281\n",
      "  388234 1648217 1477139  102236 1021563 1832957 2721963  678116 1220886\n",
      " 1673227 2999801 1633337 2470674 2625444 1677118 2479011 3383594 1183255\n",
      " 1713430 2652650 1598369 1916118  854647 1302315  888470  180546 2621907\n",
      " 1308785 2729254    9310 2170451 2979697 1625713 1529171]\n"
     ]
    }
   ],
   "source": [
    "# Save all order IDs with at least one missing value in 'add_to_cart_order'\n",
    "\n",
    "order_ids_missing_add_to_cart_order = df_order_products.loc[df_order_products['add_to_cart_order'].isna(), 'order_id'].unique()\n",
    "print(order_ids_missing_add_to_cart_order)"
   ]
  },
  {
   "cell_type": "code",
   "execution_count": 23,
   "id": "54c31695",
   "metadata": {
    "scrolled": true
   },
   "outputs": [
    {
     "name": "stdout",
     "output_type": "stream",
     "text": [
      "order_id               0\n",
      "product_id             0\n",
      "add_to_cart_order    836\n",
      "reordered              0\n",
      "dtype: int64\n",
      "\n",
      "count     70.000000\n",
      "mean      75.942857\n",
      "std       12.898585\n",
      "min       65.000000\n",
      "25%       67.000000\n",
      "50%       71.000000\n",
      "75%       78.000000\n",
      "max      127.000000\n",
      "Name: product_id, dtype: float64\n"
     ]
    }
   ],
   "source": [
    "# Do all orders with missing values have more than 64 products?\n",
    "\n",
    "print(df_order_products.isna().sum())\n",
    "print()\n",
    "print(df_order_products.groupby('order_id')['product_id'].count().loc[order_ids_missing_add_to_cart_order].describe())"
   ]
  },
  {
   "cell_type": "markdown",
   "id": "0420f286",
   "metadata": {},
   "source": [
    "Yes, the minimum number of products for an order with missing values is 65. "
   ]
  },
  {
   "cell_type": "code",
   "execution_count": 24,
   "id": "7a987d08",
   "metadata": {},
   "outputs": [
    {
     "name": "stdout",
     "output_type": "stream",
     "text": [
      "836\n",
      "\n",
      "order_id             int64\n",
      "product_id           int64\n",
      "add_to_cart_order    int64\n",
      "reordered            int64\n",
      "dtype: object\n"
     ]
    }
   ],
   "source": [
    "# Replace missing values with 999 and convert column to integer type\n",
    "\n",
    "df_order_products['add_to_cart_order'].fillna(999, inplace=True)#.astype('int')\n",
    "df_order_products = df_order_products.astype({'add_to_cart_order': int})\n",
    "\n",
    "print(df_order_products['add_to_cart_order'].value_counts().get(999, 0))\n",
    "print()\n",
    "print(df_order_products.dtypes)\n"
   ]
  },
  {
   "cell_type": "markdown",
   "id": "3ea427d0",
   "metadata": {},
   "source": [
    "All missing add_to_cart_order values were replaced with 999 and the column was converted to int type."
   ]
  },
  {
   "cell_type": "markdown",
   "id": "turkish-kidney",
   "metadata": {},
   "source": [
    "# [A] Easy (must complete all to pass)"
   ]
  },
  {
   "cell_type": "markdown",
   "id": "short-capability",
   "metadata": {},
   "source": [
    "### [A1] Verify that the `'order_hour_of_day'` and `'order_dow'` values in the `orders` tables are sensible (i.e. `'order_hour_of_day'` ranges from 0 to 23 and `'order_dow'` ranges from 0 to 6)"
   ]
  },
  {
   "cell_type": "code",
   "execution_count": 25,
   "id": "growing-fruit",
   "metadata": {},
   "outputs": [
    {
     "name": "stdout",
     "output_type": "stream",
     "text": [
      "count    478952.000000\n",
      "mean         13.447034\n",
      "std           4.224567\n",
      "min           0.000000\n",
      "25%          10.000000\n",
      "50%          13.000000\n",
      "75%          16.000000\n",
      "max          23.000000\n",
      "Name: order_hour_of_day, dtype: float64\n",
      "\n",
      "count    478952.000000\n",
      "mean          2.775051\n",
      "std           2.045901\n",
      "min           0.000000\n",
      "25%           1.000000\n",
      "50%           3.000000\n",
      "75%           5.000000\n",
      "max           6.000000\n",
      "Name: order_dow, dtype: float64\n"
     ]
    }
   ],
   "source": [
    "print(df_orders['order_hour_of_day'].describe())\n",
    "print()\n",
    "print(df_orders['order_dow'].describe())"
   ]
  },
  {
   "cell_type": "markdown",
   "id": "78e3a756",
   "metadata": {},
   "source": [
    "Columns order_hour_of_day and order_dow are sensible with ranges from 0 to 23 and 0 to 6, respectively."
   ]
  },
  {
   "cell_type": "markdown",
   "id": "a6743a70",
   "metadata": {},
   "source": [
    "### [A2] What time of day do people shop for groceries?"
   ]
  },
  {
   "cell_type": "code",
   "execution_count": 26,
   "id": "3ad6d1d8",
   "metadata": {},
   "outputs": [
    {
     "name": "stdout",
     "output_type": "stream",
     "text": [
      "mode for order_hour_of_day:  10\n",
      "\n"
     ]
    },
    {
     "data": {
      "image/png": "[encoded data removed]",
      "text/plain": [
       "<Figure size 640x480 with 1 Axes>"
      ]
     },
     "metadata": {},
     "output_type": "display_data"
    }
   ],
   "source": [
    "from matplotlib import pyplot as plt\n",
    "\n",
    "print('mode for order_hour_of_day: ', df_orders['order_hour_of_day'].mode()[0])\n",
    "print()\n",
    "plt.hist(df_orders['order_hour_of_day'], bins=24)\n",
    "plt.title('Orders by Hour of the Day')\n",
    "plt.xlabel('Hour of the Day')\n",
    "plt.ylabel('Frequency')\n",
    "plt.show()"
   ]
  },
  {
   "cell_type": "markdown",
   "id": "877ac211",
   "metadata": {},
   "source": [
    "The most common hour of day for grocery shopping in this data set is 11:00 AM. More generally, shoppers prefer the afternoon with half of the sample shopping between 11:00 AM and 5:00 PM. "
   ]
  },
  {
   "cell_type": "markdown",
   "id": "documented-command",
   "metadata": {},
   "source": [
    "### [A3] What day of the week do people shop for groceries?"
   ]
  },
  {
   "cell_type": "code",
   "execution_count": 27,
   "id": "0abc8a20",
   "metadata": {},
   "outputs": [
    {
     "name": "stdout",
     "output_type": "stream",
     "text": [
      "mode for order_dow:  0\n",
      "\n"
     ]
    },
    {
     "data": {
      "image/png": "[encoded data removed]",
      "text/plain": [
       "<Figure size 640x480 with 1 Axes>"
      ]
     },
     "metadata": {},
     "output_type": "display_data"
    },
    {
     "name": "stdout",
     "output_type": "stream",
     "text": [
      "\n",
      "proportion shopping on Monday or Tuesday: 34.72%\n"
     ]
    }
   ],
   "source": [
    "print('mode for order_dow: ', df_orders['order_dow'].mode()[0])\n",
    "print()\n",
    "plt.hist(df_orders['order_dow'], bins=7)\n",
    "plt.title('Orders by Day of Week')\n",
    "plt.xlabel('Day of Week')\n",
    "plt.ylabel('Frequency')\n",
    "plt.show()\n",
    "print()\n",
    "proportion_mon_or_tue = (df_orders['order_dow'].value_counts()[0] + df_orders['order_dow'].value_counts()[1])/df_orders['order_dow'].value_counts().sum()\n",
    "print(f'proportion shopping on Monday or Tuesday: {proportion_mon_or_tue:.2%}')"
   ]
  },
  {
   "cell_type": "markdown",
   "id": "28fe7c2b",
   "metadata": {},
   "source": [
    "The most common day for grocery shopping in this data set is Monday. More generally, shoppers prefer early in the week with neary 35% of the sample shopping on Monday or Tuesday. "
   ]
  },
  {
   "cell_type": "markdown",
   "id": "cutting-concert",
   "metadata": {},
   "source": [
    "### [A4] How long do people wait until placing another order?"
   ]
  },
  {
   "cell_type": "code",
   "execution_count": 28,
   "id": "c231f523",
   "metadata": {},
   "outputs": [
    {
     "name": "stdout",
     "output_type": "stream",
     "text": [
      "count    450135.000000\n",
      "mean         11.101814\n",
      "std           9.190004\n",
      "min           0.000000\n",
      "25%           4.000000\n",
      "50%           7.000000\n",
      "75%          15.000000\n",
      "max          30.000000\n",
      "Name: days_since_prior_order, dtype: float64\n",
      "\n",
      "mode for days_since_prior_order:  30.0\n",
      "\n"
     ]
    },
    {
     "data": {
      "image/png": "[encoded data removed]",
      "text/plain": [
       "<Figure size 640x480 with 1 Axes>"
      ]
     },
     "metadata": {},
     "output_type": "display_data"
    },
    {
     "name": "stdout",
     "output_type": "stream",
     "text": [
      "\n",
      "mode for days_since_prior_order (<30):  7.0\n"
     ]
    }
   ],
   "source": [
    "print(df_orders['days_since_prior_order'].describe())\n",
    "print()\n",
    "print('mode for days_since_prior_order: ', df_orders['days_since_prior_order'].mode()[0])\n",
    "print()\n",
    "plt.hist(df_orders['days_since_prior_order'], bins=31)\n",
    "plt.title('Wait to Place New Order')\n",
    "plt.xlabel('Days Since Prior Order')\n",
    "plt.ylabel('Frequency')\n",
    "plt.show()\n",
    "print()\n",
    "print('mode for days_since_prior_order (<30): ', df_orders['days_since_prior_order'].loc[df_orders['days_since_prior_order'] < 30].mode()[0])"
   ]
  },
  {
   "cell_type": "markdown",
   "id": "7622b259",
   "metadata": {},
   "source": [
    "The most common wait to place an order in this data set is 30 days. However, the distribution of days since prior order is bimodal with a second peak at 7 days. The extremely high frequency at 30 days suggests that it is not a natural part of the distribution. It probably represents 30 days or more. If so, the most common wait is almost certainly 7 days. Either way, half of the shoppers in this sample waited between 4 and 15 days to place another order."
   ]
  },
  {
   "cell_type": "markdown",
   "id": "tight-staff",
   "metadata": {},
   "source": [
    "# [B] Medium (must complete all to pass)"
   ]
  },
  {
   "cell_type": "markdown",
   "id": "packed-classic",
   "metadata": {},
   "source": [
    "### [B1] Is there a difference in `'order_hour_of_day'` distributions on Wednesdays and Saturdays? Plot the histograms for both days and describe the differences that you see."
   ]
  },
  {
   "cell_type": "code",
   "execution_count": 29,
   "id": "d89b8403",
   "metadata": {},
   "outputs": [
    {
     "name": "stdout",
     "output_type": "stream",
     "text": [
      "count    65833.000000\n",
      "mean        13.442772\n",
      "std          4.258655\n",
      "min          0.000000\n",
      "25%         10.000000\n",
      "50%         13.000000\n",
      "75%         16.000000\n",
      "max         23.000000\n",
      "Name: order_hour_of_day, dtype: float64\n",
      "\n"
     ]
    },
    {
     "data": {
      "image/png": "[encoded data removed]",
      "text/plain": [
       "<Figure size 640x480 with 1 Axes>"
      ]
     },
     "metadata": {},
     "output_type": "display_data"
    },
    {
     "name": "stdout",
     "output_type": "stream",
     "text": [
      "\n",
      "count    63488.000000\n",
      "mean        13.377504\n",
      "std          4.245720\n",
      "min          0.000000\n",
      "25%         10.000000\n",
      "50%         13.000000\n",
      "75%         16.000000\n",
      "max         23.000000\n",
      "Name: order_hour_of_day, dtype: float64\n",
      "\n"
     ]
    },
    {
     "data": {
      "image/png": "[encoded data removed]",
      "text/plain": [
       "<Figure size 640x480 with 1 Axes>"
      ]
     },
     "metadata": {},
     "output_type": "display_data"
    }
   ],
   "source": [
    "wed_orders = df_orders['order_hour_of_day'].loc[df_orders['order_dow'] == 2]\n",
    "sat_orders = df_orders['order_hour_of_day'].loc[df_orders['order_dow'] == 5]\n",
    "\n",
    "print(wed_orders.describe())\n",
    "print()\n",
    "plt.hist(wed_orders, bins=24)\n",
    "plt.title('Orders by Hour on Wednesdays')\n",
    "plt.xlabel('Hour of the Day')\n",
    "plt.ylabel('Frequency')\n",
    "plt.show()\n",
    "print()\n",
    "print(sat_orders.describe())\n",
    "print()\n",
    "plt.hist(sat_orders, bins=24)\n",
    "plt.title('Orders by Hour on Saturdays')\n",
    "plt.xlabel('Hour of the Day')\n",
    "plt.ylabel('Frequency')\n",
    "plt.show()"
   ]
  },
  {
   "cell_type": "markdown",
   "id": "803bb69f",
   "metadata": {},
   "source": [
    "No, the distributions are almost identical. They share the same basic shape and precisely the same quartiles. Even their means (Wednesday = 13.44, Saturday = 13.37)  and standard deviations (Wednesday = 4.26, Saturday = 4.25) are virtually identical. Both distributions are approximately unimodal with plateaus between around 10:00 AM and 5:00 PM. Order activity is almost non-existent prior to 8:00 AM and gradually declines at night after the plateau. "
   ]
  },
  {
   "cell_type": "markdown",
   "id": "e3891143",
   "metadata": {},
   "source": [
    "### [B2] What's the distribution for the number of orders per customer?"
   ]
  },
  {
   "cell_type": "code",
   "execution_count": 30,
   "id": "941c5bc6",
   "metadata": {
    "scrolled": false
   },
   "outputs": [
    {
     "name": "stdout",
     "output_type": "stream",
     "text": [
      "        user_id  order_number_count  order_number_max\n",
      "0             2                   2                 4\n",
      "1             4                   2                 6\n",
      "2             5                   1                 4\n",
      "3             6                   2                 4\n",
      "4             7                   2                19\n",
      "...         ...                 ...               ...\n",
      "157432   206203                   1                 2\n",
      "157433   206206                   7                66\n",
      "157434   206207                   5                14\n",
      "157435   206208                   9                34\n",
      "157436   206209                   2                13\n",
      "\n",
      "[157437 rows x 3 columns]\n"
     ]
    }
   ],
   "source": [
    "# Compare two possible estimates of the number of orders per customer\n",
    "\n",
    "orders_per_customer_count = df_orders.groupby('user_id')['order_number'].count()\n",
    "orders_per_customer_max = df_orders.groupby('user_id')['order_number'].max()\n",
    "\n",
    "orders_per_customer = pd.merge(\n",
    "    orders_per_customer_count, \n",
    "    orders_per_customer_max, \n",
    "    on='user_id', \n",
    "    suffixes=('_count', '_max')\n",
    ")\n",
    "\n",
    "orders_per_customer = orders_per_customer.reset_index()\n",
    "\n",
    "print(orders_per_customer)"
   ]
  },
  {
   "cell_type": "markdown",
   "id": "3c098d87",
   "metadata": {},
   "source": [
    "The meaning of the order_number variable is unclear. It is routinely higher than the total number of orders placed by a given customer in this data set. If it denotes the number of times each customer has placed an order, it must include additional orders I cannot access. Using the maximum order_number for each customer should provide the largest estimate for their total orders. Alternatively, counting the orders in this data set provides the lowest estimate. If I had to choose one estimate without more information, I would go with the data at hand and focus on the order counts. However, I will explore both distributions. "
   ]
  },
  {
   "cell_type": "code",
   "execution_count": 31,
   "id": "d8c26c23",
   "metadata": {
    "scrolled": true
   },
   "outputs": [
    {
     "name": "stdout",
     "output_type": "stream",
     "text": [
      "count    157437.000000\n",
      "mean          3.042182\n",
      "std           2.746842\n",
      "min           1.000000\n",
      "25%           1.000000\n",
      "50%           2.000000\n",
      "75%           4.000000\n",
      "max          28.000000\n",
      "Name: order_number_count, dtype: float64\n",
      "\n",
      "mode for order count:  1\n",
      "\n"
     ]
    },
    {
     "data": {
      "image/png": "[encoded data removed]",
      "text/plain": [
       "<Figure size 640x480 with 1 Axes>"
      ]
     },
     "metadata": {},
     "output_type": "display_data"
    },
    {
     "name": "stdout",
     "output_type": "stream",
     "text": [
      "\n",
      "count    157437.000000\n",
      "mean         15.577571\n",
      "std          17.215517\n",
      "min           1.000000\n",
      "25%           4.000000\n",
      "50%           9.000000\n",
      "75%          20.000000\n",
      "max         100.000000\n",
      "Name: order_number_max, dtype: float64\n",
      "\n",
      "mode for maximum order_number:  4\n",
      "\n"
     ]
    },
    {
     "data": {
      "image/png": "[encoded data removed]",
      "text/plain": [
       "<Figure size 640x480 with 1 Axes>"
      ]
     },
     "metadata": {},
     "output_type": "display_data"
    }
   ],
   "source": [
    "# Examine the distributions of the two estimates\n",
    "\n",
    "print(orders_per_customer['order_number_count'].describe())\n",
    "print()\n",
    "print('mode for order count: ', orders_per_customer['order_number_count'].mode()[0])\n",
    "print()\n",
    "plt.hist(orders_per_customer_count, bins=25)\n",
    "plt.title('Order Count Per Customer')\n",
    "plt.xlabel('Order Count')\n",
    "plt.ylabel('Frequency')\n",
    "plt.show()\n",
    "print()\n",
    "\n",
    "print(orders_per_customer['order_number_max'].describe())\n",
    "print()\n",
    "print('mode for maximum order_number: ', orders_per_customer['order_number_max'].mode()[0])\n",
    "print()\n",
    "plt.hist(orders_per_customer_max, bins=50)\n",
    "plt.title('Max Orders Per Customer')\n",
    "plt.xlabel('Max order_number')\n",
    "plt.ylabel('Frequency')\n",
    "plt.show()"
   ]
  },
  {
   "cell_type": "markdown",
   "id": "cf289ce4",
   "metadata": {},
   "source": [
    "The two distributions are quite simliar in overall shape. They are extremely right-skewed, showing that customers tend to make relatively few orders by either measure while decreasingly many customers make more orders. Order counts (mean = 3.04, median = 2, mode = 1, standard deviation = 2.75) are smaller and less spread out than maximum order-numbers (mean = 15.58, median = 9, mode = 4, standard deviation = 17.21). Half of customers make between 1 and 4 orders according to order counts and between 4 and 20 orders according to maximium order_numbers. "
   ]
  },
  {
   "cell_type": "markdown",
   "id": "54a0319c",
   "metadata": {},
   "source": [
    "### [B3] What are the top 20 popular products (display their id and name)?"
   ]
  },
  {
   "cell_type": "code",
   "execution_count": 32,
   "id": "bbcdd20b",
   "metadata": {
    "scrolled": false
   },
   "outputs": [
    {
     "name": "stdout",
     "output_type": "stream",
     "text": [
      "    product_id              product_name\n",
      "0        24852                    Banana\n",
      "1        13176    Bag of Organic Bananas\n",
      "2        21137      Organic Strawberries\n",
      "3        21903      Organic Baby Spinach\n",
      "4        47209      Organic Hass Avocado\n",
      "5        47766           Organic Avocado\n",
      "6        47626               Large Lemon\n",
      "7        16797              Strawberries\n",
      "8        26209                     Limes\n",
      "9        27845        Organic Whole Milk\n",
      "10       27966       Organic Raspberries\n",
      "11       22935      Organic Yellow Onion\n",
      "12       24964            Organic Garlic\n",
      "13       45007          Organic Zucchini\n",
      "14       39275       Organic Blueberries\n",
      "15       49683            Cucumber Kirby\n",
      "16       28204        Organic Fuji Apple\n",
      "17        5876             Organic Lemon\n",
      "18        8277  Apple Honeycrisp Organic\n",
      "19       40706    Organic Grape Tomatoes\n"
     ]
    }
   ],
   "source": [
    "top_20 = df_order_products['product_id'].value_counts().head(20).index.tolist()\n",
    "top_20_names = [df_products.loc[df_products['product_id'] == x, 'product_name'].values[0] for x in top_20]\n",
    "print(pd.DataFrame({\"product_id\": top_20, \"product_name\": top_20_names}))"
   ]
  },
  {
   "cell_type": "markdown",
   "id": "a3fe746a",
   "metadata": {},
   "source": [
    "The top 20 most popular products are listed above."
   ]
  },
  {
   "cell_type": "markdown",
   "id": "gross-theme",
   "metadata": {},
   "source": [
    "# [C] Hard (must complete at least two to pass)"
   ]
  },
  {
   "cell_type": "markdown",
   "id": "romantic-deposit",
   "metadata": {},
   "source": [
    "### [C1] How many items do people typically buy in one order? What does the distribution look like?"
   ]
  },
  {
   "cell_type": "code",
   "execution_count": 33,
   "id": "completed-frank",
   "metadata": {
    "scrolled": true
   },
   "outputs": [
    {
     "name": "stdout",
     "output_type": "stream",
     "text": [
      "count    450046.000000\n",
      "mean         10.098983\n",
      "std           7.540206\n",
      "min           1.000000\n",
      "25%           5.000000\n",
      "50%           8.000000\n",
      "75%          14.000000\n",
      "max         127.000000\n",
      "Name: order_id, dtype: float64\n",
      "\n",
      "mode for items per order:  5\n",
      "\n"
     ]
    },
    {
     "data": {
      "image/png": "[encoded data removed]",
      "text/plain": [
       "<Figure size 640x480 with 1 Axes>"
      ]
     },
     "metadata": {},
     "output_type": "display_data"
    }
   ],
   "source": [
    "order_freqs = df_order_products['order_id'].value_counts()\n",
    "print(order_freqs.describe())\n",
    "print()\n",
    "print('mode for items per order: ', order_freqs.mode()[0])\n",
    "print()\n",
    "plt.hist(order_freqs, bins=128)\n",
    "plt.title('Items per Order')\n",
    "plt.xlabel('Items per Order')\n",
    "plt.ylabel('Frequency')\n",
    "plt.show()"
   ]
  },
  {
   "cell_type": "markdown",
   "id": "c9a54f9e",
   "metadata": {},
   "source": [
    "The distribution of items per order is extremely right-skewed with mean = 10.10, median = 8, and mode = 5. Orders range from 1 to 127 items and 50% of orders contain between 5 and 8 items. "
   ]
  },
  {
   "cell_type": "markdown",
   "id": "5e6b5537",
   "metadata": {},
   "source": [
    "### [C2] What are the top 20 items that are reordered most frequently (display their names and product IDs)?"
   ]
  },
  {
   "cell_type": "code",
   "execution_count": 34,
   "id": "9374e55a",
   "metadata": {
    "scrolled": true
   },
   "outputs": [
    {
     "name": "stdout",
     "output_type": "stream",
     "text": [
      "    product_id              product_name\n",
      "0        24852                    Banana\n",
      "1        13176    Bag of Organic Bananas\n",
      "2        21137      Organic Strawberries\n",
      "3        21903      Organic Baby Spinach\n",
      "4        47209      Organic Hass Avocado\n",
      "5        47766           Organic Avocado\n",
      "6        27845        Organic Whole Milk\n",
      "7        47626               Large Lemon\n",
      "8        27966       Organic Raspberries\n",
      "9        16797              Strawberries\n",
      "10       26209                     Limes\n",
      "11       22935      Organic Yellow Onion\n",
      "12       24964            Organic Garlic\n",
      "13       45007          Organic Zucchini\n",
      "14       49683            Cucumber Kirby\n",
      "15       28204        Organic Fuji Apple\n",
      "16        8277  Apple Honeycrisp Organic\n",
      "17       39275       Organic Blueberries\n",
      "18        5876             Organic Lemon\n",
      "19       49235       Organic Half & Half\n"
     ]
    }
   ],
   "source": [
    "top_20_reordered = df_order_products.groupby('product_id')['reordered'].sum().sort_values(ascending=False).head(20).index.tolist()\n",
    "top_20_reordered_names = [df_products.loc[df_products['product_id'] == x, 'product_name'].values[0] for x in top_20_reordered]\n",
    "print(pd.DataFrame({\"product_id\": top_20_reordered, \"product_name\": top_20_reordered_names}))"
   ]
  },
  {
   "cell_type": "markdown",
   "id": "0370c6e9",
   "metadata": {},
   "source": [
    "The top 20 items that are reordered most frequently are listed above."
   ]
  },
  {
   "cell_type": "markdown",
   "id": "9d312b14",
   "metadata": {},
   "source": [
    "### [C3] For each product, what proportion of its orders are reorders?"
   ]
  },
  {
   "cell_type": "code",
   "execution_count": 35,
   "id": "8ae9f4b1",
   "metadata": {
    "scrolled": true
   },
   "outputs": [
    {
     "name": "stdout",
     "output_type": "stream",
     "text": [
      "       product_id  reorder_proportion\n",
      "0               1            0.564286\n",
      "1               2            0.000000\n",
      "2               3            0.738095\n",
      "3               4            0.510204\n",
      "4               7            0.500000\n",
      "...           ...                 ...\n",
      "45568       49690            0.800000\n",
      "45569       49691            0.430556\n",
      "45570       49692            0.416667\n",
      "45571       49693            0.440000\n",
      "45572       49694            0.333333\n",
      "\n",
      "[45573 rows x 2 columns]\n"
     ]
    }
   ],
   "source": [
    "print(df_order_products.groupby('product_id')['reordered'].mean().reset_index(name='reorder_proportion'))"
   ]
  },
  {
   "cell_type": "markdown",
   "id": "6435d533",
   "metadata": {},
   "source": [
    "The proportion of products ordered that are reorders for each product is in the reorder_proportion column."
   ]
  },
  {
   "cell_type": "markdown",
   "id": "subject-boxing",
   "metadata": {},
   "source": [
    "### [C4] For each customer, what proportion of their products ordered are reorders?"
   ]
  },
  {
   "cell_type": "code",
   "execution_count": 36,
   "id": "medical-couple",
   "metadata": {
    "scrolled": true
   },
   "outputs": [
    {
     "name": "stdout",
     "output_type": "stream",
     "text": [
      "        order_id  user_id  reorders  orders\n",
      "298007    738281        2         1      13\n",
      "222740   2168274        2         0      13\n",
      "316900   2030307        4         0       2\n",
      "207635    157374        5         8      12\n",
      "13886    2086598        6         0       4\n",
      "...          ...      ...       ...     ...\n",
      "156681    447879   206208         4       4\n",
      "392186   2573371   206208         8      14\n",
      "39832    2079142   206208        21      22\n",
      "447642   2977660   206209         4       9\n",
      "293040    688306   206209         4      16\n",
      "\n",
      "[450046 rows x 4 columns]\n"
     ]
    }
   ],
   "source": [
    "# Find the number of reorders and orders for each order_id\n",
    "\n",
    "df_user_orders = df_orders.iloc[:, :2].copy()\n",
    "reorders_by_order_id_sum = df_order_products.groupby('order_id')['reordered'].sum().reset_index()\n",
    "reorders_by_order_id_count = df_order_products.groupby('order_id')['reordered'].count().reset_index()\n",
    "\n",
    "reorders_by_order_id = pd.merge(\n",
    "    reorders_by_order_id_sum, \n",
    "    reorders_by_order_id_count, \n",
    "    on='order_id', \n",
    "    suffixes=('_sum', '_count')\n",
    ")\n",
    "\n",
    "df_user_orders = pd.merge(\n",
    "    df_user_orders, \n",
    "    reorders_by_order_id, \n",
    "    on='order_id', \n",
    ")\n",
    "\n",
    "df_user_orders.columns = ['order_id', 'user_id', 'reorders', 'orders']\n",
    "\n",
    "print(df_user_orders.sort_values('user_id'))"
   ]
  },
  {
   "cell_type": "code",
   "execution_count": 37,
   "id": "a195cb6a",
   "metadata": {
    "scrolled": true
   },
   "outputs": [
    {
     "name": "stdout",
     "output_type": "stream",
     "text": [
      "        user_id  reorders  orders  reorder_proportion\n",
      "0             2         1      26            0.038462\n",
      "1             4         0       2            0.000000\n",
      "2             5         8      12            0.666667\n",
      "3             6         0       4            0.000000\n",
      "4             7        13      14            0.928571\n",
      "...         ...       ...     ...                 ...\n",
      "149621   206203         6      27            0.222222\n",
      "149622   206206        15      21            0.714286\n",
      "149623   206207        41      46            0.891304\n",
      "149624   206208        87     125            0.696000\n",
      "149625   206209         8      25            0.320000\n",
      "\n",
      "[149626 rows x 4 columns]\n"
     ]
    }
   ],
   "source": [
    "# Find the number of reorders, number of total orders, and proportion of total orders reordered for each user_id\n",
    "\n",
    "df_user_orders_reorders = df_user_orders.groupby('user_id')['reorders'].sum().reset_index()\n",
    "df_user_orders_orders = df_user_orders.groupby('user_id')['orders'].sum().reset_index()\n",
    "\n",
    "df_user_reorders = pd.merge(\n",
    "    df_user_orders_reorders, \n",
    "    df_user_orders_orders, \n",
    "    on='user_id', \n",
    ")\n",
    "\n",
    "df_user_reorders['reorder_proportion'] = df_user_reorders['reorders']/df_user_reorders['orders']\n",
    "\n",
    "print(df_user_reorders.sort_values('user_id'))"
   ]
  },
  {
   "cell_type": "markdown",
   "id": "1e25073c",
   "metadata": {},
   "source": [
    "The proportion of products ordered that are reorders for each customer is in the reorder_proportion column."
   ]
  },
  {
   "cell_type": "markdown",
   "id": "92d35137",
   "metadata": {},
   "source": [
    "### [C5] What are the top 20 items that people put in their carts first? "
   ]
  },
  {
   "cell_type": "code",
   "execution_count": 38,
   "id": "08e41ec2",
   "metadata": {
    "scrolled": true
   },
   "outputs": [
    {
     "name": "stdout",
     "output_type": "stream",
     "text": [
      "    product_id  frequency_first_in_cart\n",
      "0        24852                    15562\n",
      "1        13176                    11026\n",
      "2        27845                     4363\n",
      "3        21137                     3946\n",
      "4        47209                     3390\n",
      "5        21903                     3336\n",
      "6        47766                     3044\n",
      "7        19660                     2336\n",
      "8        16797                     2308\n",
      "9        27966                     2024\n",
      "10       44632                     1914\n",
      "11       49235                     1797\n",
      "12       47626                     1737\n",
      "13         196                     1733\n",
      "14       38689                     1397\n",
      "15       26209                     1370\n",
      "16       12341                     1340\n",
      "17        5785                     1310\n",
      "18       27086                     1309\n",
      "19       43352                     1246\n"
     ]
    }
   ],
   "source": [
    "first_cart_products = df_order_products[df_order_products['add_to_cart_order'] == 1].groupby('product_id').size().reindex(df_order_products['product_id'].unique(), fill_value=0)\n",
    "print(first_cart_products.sort_values(ascending=False).reset_index(name='frequency_first_in_cart').head(20))"
   ]
  },
  {
   "cell_type": "markdown",
   "id": "9fb3f2d3",
   "metadata": {},
   "source": [
    "The top 20 items that people put in their carts first are listed above."
   ]
  }
 ],
 "metadata": {
  "ExecuteTimeLog": [
   {
    "duration": 155,
    "start_time": "2024-09-12T09:58:58.117Z"
   },
   {
    "duration": 12,
    "start_time": "2024-09-12T09:59:09.186Z"
   },
   {
    "duration": 307,
    "start_time": "2024-09-12T09:59:14.796Z"
   },
   {
    "duration": 343,
    "start_time": "2024-09-12T09:59:23.499Z"
   },
   {
    "duration": 59,
    "start_time": "2024-09-12T09:59:35.469Z"
   },
   {
    "duration": 161,
    "start_time": "2024-09-12T10:00:18.912Z"
   },
   {
    "duration": 125,
    "start_time": "2024-09-12T10:00:38.258Z"
   },
   {
    "duration": 233,
    "start_time": "2024-09-12T10:04:06.197Z"
   },
   {
    "duration": 999,
    "start_time": "2024-09-12T10:04:31.152Z"
   },
   {
    "duration": 16,
    "start_time": "2024-09-12T10:05:17.552Z"
   },
   {
    "duration": 80,
    "start_time": "2024-09-12T10:05:44.002Z"
   },
   {
    "duration": 7,
    "start_time": "2024-09-12T10:06:05.120Z"
   },
   {
    "duration": 10,
    "start_time": "2024-09-12T10:07:17.520Z"
   },
   {
    "duration": 77,
    "start_time": "2024-09-12T10:07:24.189Z"
   },
   {
    "duration": 73,
    "start_time": "2024-09-12T10:08:03.512Z"
   },
   {
    "duration": 162,
    "start_time": "2024-09-12T10:08:31.616Z"
   },
   {
    "duration": 154,
    "start_time": "2024-09-12T10:09:20.808Z"
   },
   {
    "duration": 5,
    "start_time": "2024-09-12T10:10:49.095Z"
   },
   {
    "duration": 12,
    "start_time": "2024-09-12T10:11:49.830Z"
   },
   {
    "duration": 7,
    "start_time": "2024-09-12T10:12:03.470Z"
   },
   {
    "duration": 12,
    "start_time": "2024-09-12T10:12:31.734Z"
   },
   {
    "duration": 13,
    "start_time": "2024-09-12T10:13:31.702Z"
   },
   {
    "duration": 13,
    "start_time": "2024-09-12T10:13:40.694Z"
   },
   {
    "duration": 8,
    "start_time": "2024-09-12T10:13:54.248Z"
   },
   {
    "duration": 6,
    "start_time": "2024-09-12T10:14:03.110Z"
   },
   {
    "duration": 10,
    "start_time": "2024-09-12T10:15:52.976Z"
   },
   {
    "duration": 19,
    "start_time": "2024-09-12T10:16:42.523Z"
   },
   {
    "duration": 13,
    "start_time": "2024-09-12T10:17:15.491Z"
   },
   {
    "duration": 13,
    "start_time": "2024-09-12T10:17:24.598Z"
   },
   {
    "duration": 4,
    "start_time": "2024-09-12T10:19:54.017Z"
   },
   {
    "duration": 4,
    "start_time": "2024-09-12T10:19:58.484Z"
   },
   {
    "duration": 3,
    "start_time": "2024-09-12T10:20:07.381Z"
   },
   {
    "duration": 15,
    "start_time": "2024-09-12T10:20:18.163Z"
   },
   {
    "duration": 169,
    "start_time": "2024-09-12T10:20:24.331Z"
   },
   {
    "duration": 21,
    "start_time": "2024-09-12T10:20:44.091Z"
   },
   {
    "duration": 21,
    "start_time": "2024-09-12T10:20:50.235Z"
   },
   {
    "duration": 12,
    "start_time": "2024-09-12T10:22:39.291Z"
   },
   {
    "duration": 11,
    "start_time": "2024-09-12T10:23:21.091Z"
   },
   {
    "duration": 14,
    "start_time": "2024-09-12T10:23:38.449Z"
   },
   {
    "duration": 14,
    "start_time": "2024-09-12T10:25:01.427Z"
   },
   {
    "duration": 5,
    "start_time": "2024-09-12T10:25:19.355Z"
   },
   {
    "duration": 11,
    "start_time": "2024-09-12T10:27:24.009Z"
   },
   {
    "duration": 10,
    "start_time": "2024-09-12T10:28:43.962Z"
   },
   {
    "duration": 9,
    "start_time": "2024-09-12T10:29:06.489Z"
   },
   {
    "duration": 9,
    "start_time": "2024-09-12T10:29:12.289Z"
   },
   {
    "duration": 80,
    "start_time": "2024-09-12T10:33:09.430Z"
   },
   {
    "duration": 82,
    "start_time": "2024-09-12T10:33:34.374Z"
   },
   {
    "duration": 87,
    "start_time": "2024-09-12T10:33:56.359Z"
   },
   {
    "duration": 150,
    "start_time": "2024-09-12T10:34:28.541Z"
   },
   {
    "duration": 78,
    "start_time": "2024-09-12T10:34:35.351Z"
   },
   {
    "duration": 4,
    "start_time": "2024-09-12T10:35:21.286Z"
   },
   {
    "duration": 6,
    "start_time": "2024-09-12T10:35:40.709Z"
   },
   {
    "duration": 3,
    "start_time": "2024-09-12T10:35:45.482Z"
   },
   {
    "duration": 4,
    "start_time": "2024-09-12T10:36:12.510Z"
   },
   {
    "duration": 49,
    "start_time": "2024-09-12T10:36:16.181Z"
   },
   {
    "duration": 25,
    "start_time": "2024-09-12T10:36:26.021Z"
   },
   {
    "duration": 4,
    "start_time": "2024-09-12T10:39:27.953Z"
   },
   {
    "duration": 208,
    "start_time": "2024-09-12T10:41:18.575Z"
   },
   {
    "duration": 12,
    "start_time": "2024-09-12T10:41:42.683Z"
   },
   {
    "duration": 21,
    "start_time": "2024-09-12T10:42:15.375Z"
   },
   {
    "duration": 211,
    "start_time": "2024-09-12T10:42:31.758Z"
   },
   {
    "duration": 4,
    "start_time": "2024-09-12T10:43:04.910Z"
   },
   {
    "duration": 11,
    "start_time": "2024-09-12T10:43:47.558Z"
   },
   {
    "duration": 19,
    "start_time": "2024-09-12T10:43:51.971Z"
   },
   {
    "duration": 22,
    "start_time": "2024-09-12T10:44:10.063Z"
   },
   {
    "duration": 92,
    "start_time": "2024-09-12T10:45:14.876Z"
   },
   {
    "duration": 25,
    "start_time": "2024-09-12T10:45:21.461Z"
   },
   {
    "duration": 28,
    "start_time": "2024-09-12T10:45:29.980Z"
   },
   {
    "duration": 51,
    "start_time": "2024-09-12T10:46:13.957Z"
   },
   {
    "duration": 70,
    "start_time": "2024-09-12T10:46:29.813Z"
   },
   {
    "duration": 35,
    "start_time": "2024-09-12T10:46:41.109Z"
   },
   {
    "duration": 32,
    "start_time": "2024-09-12T10:47:29.554Z"
   },
   {
    "duration": 33,
    "start_time": "2024-09-12T10:47:43.096Z"
   },
   {
    "duration": 31,
    "start_time": "2024-09-12T10:48:44.579Z"
   },
   {
    "duration": 21,
    "start_time": "2024-09-12T10:50:21.148Z"
   },
   {
    "duration": 24,
    "start_time": "2024-09-12T10:50:35.674Z"
   },
   {
    "duration": 31,
    "start_time": "2024-09-12T10:51:12.099Z"
   },
   {
    "duration": 78,
    "start_time": "2024-09-12T10:51:42.410Z"
   },
   {
    "duration": 4,
    "start_time": "2024-09-12T10:52:11.951Z"
   },
   {
    "duration": 4,
    "start_time": "2024-09-12T10:52:17.370Z"
   },
   {
    "duration": 3,
    "start_time": "2024-09-12T10:52:33.986Z"
   },
   {
    "duration": 63,
    "start_time": "2024-09-12T10:52:37.213Z"
   },
   {
    "duration": 58,
    "start_time": "2024-09-12T10:53:08.455Z"
   },
   {
    "duration": 4,
    "start_time": "2024-09-12T10:53:20.522Z"
   },
   {
    "duration": 30,
    "start_time": "2024-09-12T10:53:25.554Z"
   },
   {
    "duration": 33,
    "start_time": "2024-09-12T10:53:35.624Z"
   },
   {
    "duration": 57,
    "start_time": "2024-09-12T10:53:45.867Z"
   },
   {
    "duration": 18,
    "start_time": "2024-09-12T10:54:01.059Z"
   },
   {
    "duration": 17,
    "start_time": "2024-09-12T10:54:44.089Z"
   },
   {
    "duration": 159,
    "start_time": "2024-09-13T01:48:47.611Z"
   },
   {
    "duration": 1335,
    "start_time": "2024-09-13T01:48:58.954Z"
   },
   {
    "duration": 185,
    "start_time": "2024-09-13T01:49:00.291Z"
   },
   {
    "duration": 8,
    "start_time": "2024-09-13T01:49:00.478Z"
   },
   {
    "duration": 10,
    "start_time": "2024-09-13T01:49:00.488Z"
   },
   {
    "duration": 119,
    "start_time": "2024-09-13T01:49:00.499Z"
   },
   {
    "duration": 83,
    "start_time": "2024-09-13T01:49:00.620Z"
   },
   {
    "duration": 28,
    "start_time": "2024-09-13T01:49:00.712Z"
   },
   {
    "duration": 11,
    "start_time": "2024-09-13T01:49:00.742Z"
   },
   {
    "duration": 3,
    "start_time": "2024-09-13T01:49:00.755Z"
   },
   {
    "duration": 57,
    "start_time": "2024-09-13T01:49:00.761Z"
   },
   {
    "duration": 16,
    "start_time": "2024-09-13T01:49:00.819Z"
   },
   {
    "duration": 17,
    "start_time": "2024-09-13T01:49:00.837Z"
   },
   {
    "duration": 2,
    "start_time": "2024-09-13T01:49:00.856Z"
   },
   {
    "duration": 4,
    "start_time": "2024-09-13T01:49:00.859Z"
   },
   {
    "duration": 3,
    "start_time": "2024-09-13T01:49:00.864Z"
   },
   {
    "duration": 3,
    "start_time": "2024-09-13T01:49:00.868Z"
   },
   {
    "duration": 3,
    "start_time": "2024-09-13T01:49:00.872Z"
   },
   {
    "duration": 36,
    "start_time": "2024-09-13T01:49:00.876Z"
   },
   {
    "duration": 2,
    "start_time": "2024-09-13T01:49:00.913Z"
   },
   {
    "duration": 2,
    "start_time": "2024-09-13T01:49:00.917Z"
   },
   {
    "duration": 3,
    "start_time": "2024-09-13T01:49:00.920Z"
   },
   {
    "duration": 3,
    "start_time": "2024-09-13T01:49:00.925Z"
   },
   {
    "duration": 3,
    "start_time": "2024-09-13T01:49:00.929Z"
   },
   {
    "duration": 4,
    "start_time": "2024-09-13T01:49:29.585Z"
   },
   {
    "duration": 21,
    "start_time": "2024-09-13T01:49:33.728Z"
   },
   {
    "duration": 22,
    "start_time": "2024-09-13T01:49:54.219Z"
   },
   {
    "duration": 6,
    "start_time": "2024-09-13T01:50:25.147Z"
   },
   {
    "duration": 3,
    "start_time": "2024-09-13T01:51:04.401Z"
   },
   {
    "duration": 4,
    "start_time": "2024-09-13T01:52:01.162Z"
   },
   {
    "duration": 4,
    "start_time": "2024-09-13T01:52:18.889Z"
   },
   {
    "duration": 4,
    "start_time": "2024-09-13T01:52:57.464Z"
   },
   {
    "duration": 4,
    "start_time": "2024-09-13T01:53:58.001Z"
   },
   {
    "duration": 10,
    "start_time": "2024-09-13T02:05:56.357Z"
   },
   {
    "duration": 572,
    "start_time": "2024-09-13T02:06:38.980Z"
   },
   {
    "duration": 8,
    "start_time": "2024-09-13T02:07:09.040Z"
   },
   {
    "duration": 8,
    "start_time": "2024-09-13T02:07:16.916Z"
   },
   {
    "duration": 962,
    "start_time": "2024-09-13T02:08:18.566Z"
   },
   {
    "duration": 10,
    "start_time": "2024-09-13T02:09:29.570Z"
   },
   {
    "duration": 40,
    "start_time": "2024-09-13T02:10:53.624Z"
   },
   {
    "duration": 10,
    "start_time": "2024-09-13T02:11:12.721Z"
   },
   {
    "duration": 121,
    "start_time": "2024-09-13T02:11:34.657Z"
   },
   {
    "duration": 43,
    "start_time": "2024-09-13T02:11:54.941Z"
   },
   {
    "duration": 861,
    "start_time": "2024-09-13T02:12:53.006Z"
   },
   {
    "duration": 2122,
    "start_time": "2024-09-13T02:13:31.899Z"
   },
   {
    "duration": 44,
    "start_time": "2024-09-13T02:14:16.874Z"
   },
   {
    "duration": 3,
    "start_time": "2024-09-13T02:16:53.359Z"
   },
   {
    "duration": 61,
    "start_time": "2024-09-13T02:16:57.831Z"
   },
   {
    "duration": 851,
    "start_time": "2024-09-13T02:17:09.513Z"
   },
   {
    "duration": 697,
    "start_time": "2024-09-13T02:17:51.315Z"
   },
   {
    "duration": 1340,
    "start_time": "2024-09-13T02:18:28.472Z"
   },
   {
    "duration": 1390,
    "start_time": "2024-09-13T02:18:51.460Z"
   },
   {
    "duration": 1914,
    "start_time": "2024-09-13T02:18:58.287Z"
   },
   {
    "duration": 1933,
    "start_time": "2024-09-13T02:19:17.518Z"
   },
   {
    "duration": 1885,
    "start_time": "2024-09-13T02:20:31.214Z"
   },
   {
    "duration": 2497,
    "start_time": "2024-09-13T02:21:19.591Z"
   },
   {
    "duration": 1843,
    "start_time": "2024-09-13T02:21:43.505Z"
   },
   {
    "duration": 2851,
    "start_time": "2024-09-13T02:23:28.505Z"
   },
   {
    "duration": 5,
    "start_time": "2024-09-13T02:24:11.765Z"
   },
   {
    "duration": 4,
    "start_time": "2024-09-13T02:25:44.590Z"
   },
   {
    "duration": 2810,
    "start_time": "2024-09-13T02:26:43.027Z"
   },
   {
    "duration": 20,
    "start_time": "2024-09-13T02:27:44.328Z"
   },
   {
    "duration": 31,
    "start_time": "2024-09-13T02:29:15.766Z"
   },
   {
    "duration": 50,
    "start_time": "2024-09-13T02:29:26.566Z"
   },
   {
    "duration": 3,
    "start_time": "2024-09-13T02:29:32.473Z"
   },
   {
    "duration": 29,
    "start_time": "2024-09-13T02:30:02.059Z"
   },
   {
    "duration": 17,
    "start_time": "2024-09-13T02:30:43.795Z"
   },
   {
    "duration": 31,
    "start_time": "2024-09-13T02:31:45.251Z"
   },
   {
    "duration": 19,
    "start_time": "2024-09-13T02:32:41.173Z"
   },
   {
    "duration": 150,
    "start_time": "2024-09-13T02:33:13.644Z"
   },
   {
    "duration": 59,
    "start_time": "2024-09-13T02:34:42.004Z"
   },
   {
    "duration": 28,
    "start_time": "2024-09-13T02:34:57.109Z"
   },
   {
    "duration": 53,
    "start_time": "2024-09-13T02:35:05.275Z"
   },
   {
    "duration": 37,
    "start_time": "2024-09-13T02:35:26.884Z"
   },
   {
    "duration": 221,
    "start_time": "2024-09-13T02:35:55.650Z"
   },
   {
    "duration": 5,
    "start_time": "2024-09-13T02:36:31.931Z"
   },
   {
    "duration": 37,
    "start_time": "2024-09-13T02:36:37.290Z"
   },
   {
    "duration": 33,
    "start_time": "2024-09-13T02:37:30.130Z"
   },
   {
    "duration": 29,
    "start_time": "2024-09-13T02:38:07.782Z"
   },
   {
    "duration": 33,
    "start_time": "2024-09-13T02:38:24.656Z"
   },
   {
    "duration": 33,
    "start_time": "2024-09-13T02:38:42.929Z"
   },
   {
    "duration": 33,
    "start_time": "2024-09-13T02:39:05.699Z"
   },
   {
    "duration": 32,
    "start_time": "2024-09-13T02:39:28.944Z"
   },
   {
    "duration": 58,
    "start_time": "2024-09-13T02:40:26.601Z"
   },
   {
    "duration": 60,
    "start_time": "2024-09-13T02:43:03.098Z"
   },
   {
    "duration": 26,
    "start_time": "2024-09-13T02:43:46.065Z"
   },
   {
    "duration": 29,
    "start_time": "2024-09-13T02:43:56.153Z"
   },
   {
    "duration": 40,
    "start_time": "2024-09-13T02:44:31.164Z"
   },
   {
    "duration": 34,
    "start_time": "2024-09-13T02:44:38.039Z"
   },
   {
    "duration": 37,
    "start_time": "2024-09-13T02:45:07.910Z"
   },
   {
    "duration": 31,
    "start_time": "2024-09-13T02:45:15.790Z"
   },
   {
    "duration": 36,
    "start_time": "2024-09-13T02:46:23.143Z"
   },
   {
    "duration": 6,
    "start_time": "2024-09-13T02:46:53.766Z"
   },
   {
    "duration": 4,
    "start_time": "2024-09-13T02:49:25.663Z"
   },
   {
    "duration": 43,
    "start_time": "2024-09-13T02:49:33.039Z"
   },
   {
    "duration": 40,
    "start_time": "2024-09-13T02:51:27.640Z"
   },
   {
    "duration": 50,
    "start_time": "2024-09-13T02:52:16.447Z"
   },
   {
    "duration": 44,
    "start_time": "2024-09-13T02:52:50.373Z"
   },
   {
    "duration": 46,
    "start_time": "2024-09-13T02:53:13.358Z"
   },
   {
    "duration": 45,
    "start_time": "2024-09-13T02:54:12.609Z"
   },
   {
    "duration": 69,
    "start_time": "2024-09-13T02:55:22.491Z"
   },
   {
    "duration": 58,
    "start_time": "2024-09-13T02:57:38.526Z"
   },
   {
    "duration": 39,
    "start_time": "2024-09-13T02:58:36.627Z"
   },
   {
    "duration": 40,
    "start_time": "2024-09-13T03:00:43.163Z"
   },
   {
    "duration": 41,
    "start_time": "2024-09-13T03:01:47.971Z"
   },
   {
    "duration": 43,
    "start_time": "2024-09-13T03:03:33.521Z"
   },
   {
    "duration": 35,
    "start_time": "2024-09-13T03:05:14.998Z"
   },
   {
    "duration": 27,
    "start_time": "2024-09-13T03:07:05.089Z"
   },
   {
    "duration": 22,
    "start_time": "2024-09-13T03:08:36.078Z"
   },
   {
    "duration": 31,
    "start_time": "2024-09-13T03:09:16.961Z"
   },
   {
    "duration": 1240,
    "start_time": "2024-09-13T03:09:34.897Z"
   },
   {
    "duration": 213,
    "start_time": "2024-09-13T03:09:36.139Z"
   },
   {
    "duration": 10,
    "start_time": "2024-09-13T03:09:36.353Z"
   },
   {
    "duration": 13,
    "start_time": "2024-09-13T03:09:36.366Z"
   },
   {
    "duration": 130,
    "start_time": "2024-09-13T03:09:36.381Z"
   },
   {
    "duration": 92,
    "start_time": "2024-09-13T03:09:36.513Z"
   },
   {
    "duration": 32,
    "start_time": "2024-09-13T03:09:36.612Z"
   },
   {
    "duration": 13,
    "start_time": "2024-09-13T03:09:36.645Z"
   },
   {
    "duration": 4,
    "start_time": "2024-09-13T03:09:36.659Z"
   },
   {
    "duration": 57,
    "start_time": "2024-09-13T03:09:36.666Z"
   },
   {
    "duration": 18,
    "start_time": "2024-09-13T03:09:36.727Z"
   },
   {
    "duration": 5,
    "start_time": "2024-09-13T03:09:36.747Z"
   },
   {
    "duration": 6,
    "start_time": "2024-09-13T03:09:36.754Z"
   },
   {
    "duration": 888,
    "start_time": "2024-09-13T03:09:36.761Z"
   },
   {
    "duration": 3024,
    "start_time": "2024-09-13T03:09:37.651Z"
   },
   {
    "duration": 23,
    "start_time": "2024-09-13T03:09:40.677Z"
   },
   {
    "duration": 3,
    "start_time": "2024-09-13T03:09:40.712Z"
   },
   {
    "duration": 3,
    "start_time": "2024-09-13T03:09:40.716Z"
   },
   {
    "duration": 2,
    "start_time": "2024-09-13T03:09:40.722Z"
   },
   {
    "duration": 3,
    "start_time": "2024-09-13T03:09:40.725Z"
   },
   {
    "duration": 2,
    "start_time": "2024-09-13T03:09:40.730Z"
   },
   {
    "duration": 2,
    "start_time": "2024-09-13T03:09:40.734Z"
   },
   {
    "duration": 3,
    "start_time": "2024-09-13T03:09:40.738Z"
   },
   {
    "duration": 3,
    "start_time": "2024-09-13T03:09:40.742Z"
   },
   {
    "duration": 20,
    "start_time": "2024-09-13T03:10:19.327Z"
   },
   {
    "duration": 18,
    "start_time": "2024-09-13T03:10:36.207Z"
   },
   {
    "duration": 24,
    "start_time": "2024-09-13T03:11:05.506Z"
   },
   {
    "duration": 27,
    "start_time": "2024-09-13T03:13:57.918Z"
   },
   {
    "duration": 24,
    "start_time": "2024-09-13T03:14:04.968Z"
   },
   {
    "duration": 4,
    "start_time": "2024-09-13T03:15:00.440Z"
   },
   {
    "duration": 21,
    "start_time": "2024-09-13T03:15:20.424Z"
   },
   {
    "duration": 26,
    "start_time": "2024-09-13T03:15:43.875Z"
   },
   {
    "duration": 14,
    "start_time": "2024-09-13T03:16:35.606Z"
   },
   {
    "duration": 16,
    "start_time": "2024-09-13T03:17:45.204Z"
   },
   {
    "duration": 10,
    "start_time": "2024-09-13T03:17:52.946Z"
   },
   {
    "duration": 11,
    "start_time": "2024-09-13T03:20:53.180Z"
   },
   {
    "duration": 5,
    "start_time": "2024-09-13T03:21:35.318Z"
   },
   {
    "duration": 17,
    "start_time": "2024-09-13T03:21:56.759Z"
   },
   {
    "duration": 8,
    "start_time": "2024-09-13T03:22:26.654Z"
   },
   {
    "duration": 7,
    "start_time": "2024-09-13T03:23:27.025Z"
   },
   {
    "duration": 1330,
    "start_time": "2024-09-13T09:08:22.381Z"
   },
   {
    "duration": 193,
    "start_time": "2024-09-13T09:08:23.713Z"
   },
   {
    "duration": 8,
    "start_time": "2024-09-13T09:08:23.908Z"
   },
   {
    "duration": 11,
    "start_time": "2024-09-13T09:08:23.918Z"
   },
   {
    "duration": 125,
    "start_time": "2024-09-13T09:08:23.930Z"
   },
   {
    "duration": 99,
    "start_time": "2024-09-13T09:08:24.057Z"
   },
   {
    "duration": 29,
    "start_time": "2024-09-13T09:08:24.158Z"
   },
   {
    "duration": 23,
    "start_time": "2024-09-13T09:08:24.190Z"
   },
   {
    "duration": 4,
    "start_time": "2024-09-13T09:08:24.215Z"
   },
   {
    "duration": 31,
    "start_time": "2024-09-13T09:08:24.222Z"
   },
   {
    "duration": 17,
    "start_time": "2024-09-13T09:08:24.254Z"
   },
   {
    "duration": 5,
    "start_time": "2024-09-13T09:08:24.272Z"
   },
   {
    "duration": 30,
    "start_time": "2024-09-13T09:08:24.279Z"
   },
   {
    "duration": 773,
    "start_time": "2024-09-13T09:08:24.310Z"
   },
   {
    "duration": 2992,
    "start_time": "2024-09-13T09:08:25.085Z"
   },
   {
    "duration": 9,
    "start_time": "2024-09-13T09:08:28.079Z"
   },
   {
    "duration": 18,
    "start_time": "2024-09-13T09:08:28.089Z"
   },
   {
    "duration": 7,
    "start_time": "2024-09-13T09:09:08.947Z"
   },
   {
    "duration": 5,
    "start_time": "2024-09-13T09:09:36.331Z"
   },
   {
    "duration": 5,
    "start_time": "2024-09-13T09:11:05.460Z"
   },
   {
    "duration": 543,
    "start_time": "2024-09-13T09:11:28.960Z"
   },
   {
    "duration": 14,
    "start_time": "2024-09-13T09:11:42.163Z"
   },
   {
    "duration": 144,
    "start_time": "2024-09-13T09:12:21.674Z"
   },
   {
    "duration": 6,
    "start_time": "2024-09-13T09:12:37.474Z"
   },
   {
    "duration": 6,
    "start_time": "2024-09-13T09:13:11.522Z"
   },
   {
    "duration": 25,
    "start_time": "2024-09-13T09:17:34.992Z"
   },
   {
    "duration": 4,
    "start_time": "2024-09-13T09:18:36.242Z"
   },
   {
    "duration": 9,
    "start_time": "2024-09-13T09:18:43.272Z"
   },
   {
    "duration": 18,
    "start_time": "2024-09-13T09:19:00.065Z"
   },
   {
    "duration": 7,
    "start_time": "2024-09-13T09:19:15.886Z"
   },
   {
    "duration": 9,
    "start_time": "2024-09-13T09:19:24.418Z"
   },
   {
    "duration": 1189,
    "start_time": "2024-09-13T09:19:48.527Z"
   },
   {
    "duration": 198,
    "start_time": "2024-09-13T09:19:49.718Z"
   },
   {
    "duration": 9,
    "start_time": "2024-09-13T09:19:49.918Z"
   },
   {
    "duration": 11,
    "start_time": "2024-09-13T09:19:49.929Z"
   },
   {
    "duration": 125,
    "start_time": "2024-09-13T09:19:49.941Z"
   },
   {
    "duration": 96,
    "start_time": "2024-09-13T09:19:50.068Z"
   },
   {
    "duration": 28,
    "start_time": "2024-09-13T09:19:50.165Z"
   },
   {
    "duration": 13,
    "start_time": "2024-09-13T09:19:50.204Z"
   },
   {
    "duration": 4,
    "start_time": "2024-09-13T09:19:50.218Z"
   },
   {
    "duration": 31,
    "start_time": "2024-09-13T09:19:50.225Z"
   },
   {
    "duration": 16,
    "start_time": "2024-09-13T09:19:50.258Z"
   },
   {
    "duration": 31,
    "start_time": "2024-09-13T09:19:50.276Z"
   },
   {
    "duration": 4,
    "start_time": "2024-09-13T09:19:50.308Z"
   },
   {
    "duration": 795,
    "start_time": "2024-09-13T09:19:50.314Z"
   },
   {
    "duration": 2830,
    "start_time": "2024-09-13T09:19:51.111Z"
   },
   {
    "duration": 8,
    "start_time": "2024-09-13T09:19:53.943Z"
   },
   {
    "duration": 7,
    "start_time": "2024-09-13T09:19:53.952Z"
   },
   {
    "duration": 6,
    "start_time": "2024-09-13T09:19:53.960Z"
   },
   {
    "duration": 9,
    "start_time": "2024-09-13T09:19:53.968Z"
   },
   {
    "duration": 27,
    "start_time": "2024-09-13T09:19:53.978Z"
   },
   {
    "duration": 2,
    "start_time": "2024-09-13T09:19:54.007Z"
   },
   {
    "duration": 3,
    "start_time": "2024-09-13T09:19:54.011Z"
   },
   {
    "duration": 2,
    "start_time": "2024-09-13T09:19:54.016Z"
   },
   {
    "duration": 2,
    "start_time": "2024-09-13T09:19:54.020Z"
   },
   {
    "duration": 599,
    "start_time": "2024-09-13T09:20:25.564Z"
   },
   {
    "duration": 8,
    "start_time": "2024-09-13T09:20:39.409Z"
   },
   {
    "duration": 14,
    "start_time": "2024-09-13T09:21:24.911Z"
   },
   {
    "duration": 14,
    "start_time": "2024-09-13T09:21:49.328Z"
   },
   {
    "duration": 7,
    "start_time": "2024-09-13T09:23:12.352Z"
   },
   {
    "duration": 1197,
    "start_time": "2024-09-13T09:24:45.820Z"
   },
   {
    "duration": 200,
    "start_time": "2024-09-13T09:24:47.019Z"
   },
   {
    "duration": 9,
    "start_time": "2024-09-13T09:24:47.221Z"
   },
   {
    "duration": 10,
    "start_time": "2024-09-13T09:24:47.232Z"
   },
   {
    "duration": 122,
    "start_time": "2024-09-13T09:24:47.244Z"
   },
   {
    "duration": 92,
    "start_time": "2024-09-13T09:24:47.368Z"
   },
   {
    "duration": 27,
    "start_time": "2024-09-13T09:24:47.462Z"
   },
   {
    "duration": 24,
    "start_time": "2024-09-13T09:24:47.491Z"
   },
   {
    "duration": 3,
    "start_time": "2024-09-13T09:24:47.517Z"
   },
   {
    "duration": 33,
    "start_time": "2024-09-13T09:24:47.523Z"
   },
   {
    "duration": 16,
    "start_time": "2024-09-13T09:24:47.557Z"
   },
   {
    "duration": 31,
    "start_time": "2024-09-13T09:24:47.575Z"
   },
   {
    "duration": 5,
    "start_time": "2024-09-13T09:24:47.607Z"
   },
   {
    "duration": 757,
    "start_time": "2024-09-13T09:24:47.613Z"
   },
   {
    "duration": 2758,
    "start_time": "2024-09-13T09:24:48.372Z"
   },
   {
    "duration": 8,
    "start_time": "2024-09-13T09:24:51.132Z"
   },
   {
    "duration": 8,
    "start_time": "2024-09-13T09:24:51.142Z"
   },
   {
    "duration": 7,
    "start_time": "2024-09-13T09:24:51.152Z"
   },
   {
    "duration": 13,
    "start_time": "2024-09-13T09:24:51.160Z"
   },
   {
    "duration": 35,
    "start_time": "2024-09-13T09:24:51.175Z"
   },
   {
    "duration": 3,
    "start_time": "2024-09-13T09:24:51.211Z"
   },
   {
    "duration": 3,
    "start_time": "2024-09-13T09:24:51.216Z"
   },
   {
    "duration": 2,
    "start_time": "2024-09-13T09:24:51.220Z"
   },
   {
    "duration": 3,
    "start_time": "2024-09-13T09:24:51.224Z"
   },
   {
    "duration": 10,
    "start_time": "2024-09-13T09:25:03.460Z"
   },
   {
    "duration": 35,
    "start_time": "2024-09-13T09:25:51.470Z"
   },
   {
    "duration": 36,
    "start_time": "2024-09-13T09:26:33.831Z"
   },
   {
    "duration": 33,
    "start_time": "2024-09-13T09:28:04.005Z"
   },
   {
    "duration": 38,
    "start_time": "2024-09-13T09:28:11.803Z"
   },
   {
    "duration": 31,
    "start_time": "2024-09-13T09:28:21.781Z"
   },
   {
    "duration": 33,
    "start_time": "2024-09-13T09:29:34.707Z"
   },
   {
    "duration": 35,
    "start_time": "2024-09-13T09:29:46.290Z"
   },
   {
    "duration": 32,
    "start_time": "2024-09-13T09:29:54.474Z"
   },
   {
    "duration": 33,
    "start_time": "2024-09-13T09:30:32.994Z"
   },
   {
    "duration": 32,
    "start_time": "2024-09-13T09:30:51.269Z"
   },
   {
    "duration": 6,
    "start_time": "2024-09-13T09:31:42.284Z"
   },
   {
    "duration": 8,
    "start_time": "2024-09-13T09:31:53.577Z"
   },
   {
    "duration": 6,
    "start_time": "2024-09-13T09:32:27.227Z"
   },
   {
    "duration": 7,
    "start_time": "2024-09-13T09:32:34.010Z"
   },
   {
    "duration": 4,
    "start_time": "2024-09-13T09:34:40.473Z"
   },
   {
    "duration": 3,
    "start_time": "2024-09-13T09:34:44.482Z"
   },
   {
    "duration": 11,
    "start_time": "2024-09-13T09:35:00.258Z"
   },
   {
    "duration": 1332,
    "start_time": "2024-09-13T09:35:56.829Z"
   },
   {
    "duration": 194,
    "start_time": "2024-09-13T09:35:58.162Z"
   },
   {
    "duration": 9,
    "start_time": "2024-09-13T09:35:58.358Z"
   },
   {
    "duration": 11,
    "start_time": "2024-09-13T09:35:58.368Z"
   },
   {
    "duration": 124,
    "start_time": "2024-09-13T09:35:58.381Z"
   },
   {
    "duration": 88,
    "start_time": "2024-09-13T09:35:58.507Z"
   },
   {
    "duration": 38,
    "start_time": "2024-09-13T09:35:58.597Z"
   },
   {
    "duration": 11,
    "start_time": "2024-09-13T09:35:58.637Z"
   },
   {
    "duration": 3,
    "start_time": "2024-09-13T09:35:58.650Z"
   },
   {
    "duration": 57,
    "start_time": "2024-09-13T09:35:58.657Z"
   },
   {
    "duration": 16,
    "start_time": "2024-09-13T09:35:58.716Z"
   },
   {
    "duration": 4,
    "start_time": "2024-09-13T09:35:58.734Z"
   },
   {
    "duration": 5,
    "start_time": "2024-09-13T09:35:58.739Z"
   },
   {
    "duration": 795,
    "start_time": "2024-09-13T09:35:58.746Z"
   },
   {
    "duration": 2732,
    "start_time": "2024-09-13T09:35:59.543Z"
   },
   {
    "duration": 8,
    "start_time": "2024-09-13T09:36:02.276Z"
   },
   {
    "duration": 23,
    "start_time": "2024-09-13T09:36:02.286Z"
   },
   {
    "duration": 6,
    "start_time": "2024-09-13T09:36:02.310Z"
   },
   {
    "duration": 14,
    "start_time": "2024-09-13T09:36:02.318Z"
   },
   {
    "duration": 159,
    "start_time": "2024-09-13T09:36:19.427Z"
   },
   {
    "duration": 1352,
    "start_time": "2024-09-13T09:36:27.119Z"
   },
   {
    "duration": 197,
    "start_time": "2024-09-13T09:36:28.473Z"
   },
   {
    "duration": 8,
    "start_time": "2024-09-13T09:36:28.671Z"
   },
   {
    "duration": 26,
    "start_time": "2024-09-13T09:36:28.682Z"
   },
   {
    "duration": 109,
    "start_time": "2024-09-13T09:36:28.710Z"
   },
   {
    "duration": 98,
    "start_time": "2024-09-13T09:36:28.821Z"
   },
   {
    "duration": 29,
    "start_time": "2024-09-13T09:36:28.921Z"
   },
   {
    "duration": 13,
    "start_time": "2024-09-13T09:36:28.952Z"
   },
   {
    "duration": 5,
    "start_time": "2024-09-13T09:36:28.966Z"
   },
   {
    "duration": 57,
    "start_time": "2024-09-13T09:36:28.974Z"
   },
   {
    "duration": 17,
    "start_time": "2024-09-13T09:36:29.032Z"
   },
   {
    "duration": 4,
    "start_time": "2024-09-13T09:36:29.051Z"
   },
   {
    "duration": 4,
    "start_time": "2024-09-13T09:36:29.057Z"
   },
   {
    "duration": 760,
    "start_time": "2024-09-13T09:36:29.063Z"
   },
   {
    "duration": 2734,
    "start_time": "2024-09-13T09:36:29.825Z"
   },
   {
    "duration": 10,
    "start_time": "2024-09-13T09:36:32.561Z"
   },
   {
    "duration": 6,
    "start_time": "2024-09-13T09:36:32.573Z"
   },
   {
    "duration": 25,
    "start_time": "2024-09-13T09:36:32.580Z"
   },
   {
    "duration": 16,
    "start_time": "2024-09-13T09:36:32.606Z"
   },
   {
    "duration": 156,
    "start_time": "2024-09-13T09:37:23.522Z"
   },
   {
    "duration": 1296,
    "start_time": "2024-09-13T09:37:29.588Z"
   },
   {
    "duration": 199,
    "start_time": "2024-09-13T09:37:30.886Z"
   },
   {
    "duration": 17,
    "start_time": "2024-09-13T09:37:31.088Z"
   },
   {
    "duration": 11,
    "start_time": "2024-09-13T09:37:31.108Z"
   },
   {
    "duration": 113,
    "start_time": "2024-09-13T09:37:31.120Z"
   },
   {
    "duration": 110,
    "start_time": "2024-09-13T09:37:31.234Z"
   },
   {
    "duration": 27,
    "start_time": "2024-09-13T09:37:31.346Z"
   },
   {
    "duration": 12,
    "start_time": "2024-09-13T09:37:31.375Z"
   },
   {
    "duration": 19,
    "start_time": "2024-09-13T09:37:31.388Z"
   },
   {
    "duration": 33,
    "start_time": "2024-09-13T09:37:31.409Z"
   },
   {
    "duration": 17,
    "start_time": "2024-09-13T09:37:31.443Z"
   },
   {
    "duration": 5,
    "start_time": "2024-09-13T09:37:31.461Z"
   },
   {
    "duration": 5,
    "start_time": "2024-09-13T09:37:31.467Z"
   },
   {
    "duration": 790,
    "start_time": "2024-09-13T09:37:31.473Z"
   },
   {
    "duration": 2742,
    "start_time": "2024-09-13T09:37:32.265Z"
   },
   {
    "duration": 7,
    "start_time": "2024-09-13T09:37:35.009Z"
   },
   {
    "duration": 6,
    "start_time": "2024-09-13T09:37:35.018Z"
   },
   {
    "duration": 5,
    "start_time": "2024-09-13T09:37:35.026Z"
   },
   {
    "duration": 12,
    "start_time": "2024-09-13T09:37:35.033Z"
   },
   {
    "duration": 1368,
    "start_time": "2024-09-13T09:39:05.529Z"
   },
   {
    "duration": 200,
    "start_time": "2024-09-13T09:39:06.899Z"
   },
   {
    "duration": 7,
    "start_time": "2024-09-13T09:39:07.106Z"
   },
   {
    "duration": 10,
    "start_time": "2024-09-13T09:39:07.116Z"
   },
   {
    "duration": 120,
    "start_time": "2024-09-13T09:39:07.127Z"
   },
   {
    "duration": 101,
    "start_time": "2024-09-13T09:39:07.249Z"
   },
   {
    "duration": 31,
    "start_time": "2024-09-13T09:39:07.351Z"
   },
   {
    "duration": 29,
    "start_time": "2024-09-13T09:39:07.384Z"
   },
   {
    "duration": 5,
    "start_time": "2024-09-13T09:39:07.415Z"
   },
   {
    "duration": 48,
    "start_time": "2024-09-13T09:39:07.425Z"
   },
   {
    "duration": 31,
    "start_time": "2024-09-13T09:39:07.475Z"
   },
   {
    "duration": 5,
    "start_time": "2024-09-13T09:39:07.508Z"
   },
   {
    "duration": 6,
    "start_time": "2024-09-13T09:39:07.514Z"
   },
   {
    "duration": 777,
    "start_time": "2024-09-13T09:39:07.521Z"
   },
   {
    "duration": 2761,
    "start_time": "2024-09-13T09:39:08.300Z"
   },
   {
    "duration": 7,
    "start_time": "2024-09-13T09:39:11.063Z"
   },
   {
    "duration": 6,
    "start_time": "2024-09-13T09:39:11.072Z"
   },
   {
    "duration": 6,
    "start_time": "2024-09-13T09:39:11.080Z"
   },
   {
    "duration": 13,
    "start_time": "2024-09-13T09:39:11.105Z"
   },
   {
    "duration": 6,
    "start_time": "2024-09-13T09:39:11.120Z"
   },
   {
    "duration": 2,
    "start_time": "2024-09-13T09:39:11.128Z"
   },
   {
    "duration": 2,
    "start_time": "2024-09-13T09:39:11.132Z"
   },
   {
    "duration": 2,
    "start_time": "2024-09-13T09:39:11.136Z"
   },
   {
    "duration": 3,
    "start_time": "2024-09-13T09:39:11.139Z"
   },
   {
    "duration": 12,
    "start_time": "2024-09-13T09:43:40.441Z"
   },
   {
    "duration": 11,
    "start_time": "2024-09-13T09:43:53.280Z"
   },
   {
    "duration": 11,
    "start_time": "2024-09-13T09:44:04.961Z"
   },
   {
    "duration": 10,
    "start_time": "2024-09-13T09:44:23.762Z"
   },
   {
    "duration": 17,
    "start_time": "2024-09-13T09:45:28.755Z"
   },
   {
    "duration": 12,
    "start_time": "2024-09-13T09:46:03.688Z"
   },
   {
    "duration": 18,
    "start_time": "2024-09-13T09:47:30.825Z"
   },
   {
    "duration": 14,
    "start_time": "2024-09-13T09:47:45.735Z"
   },
   {
    "duration": 15,
    "start_time": "2024-09-13T09:49:13.898Z"
   },
   {
    "duration": 20,
    "start_time": "2024-09-13T09:49:50.183Z"
   },
   {
    "duration": 20,
    "start_time": "2024-09-13T09:50:43.199Z"
   },
   {
    "duration": 18,
    "start_time": "2024-09-13T09:51:16.879Z"
   },
   {
    "duration": 18,
    "start_time": "2024-09-13T09:51:52.647Z"
   },
   {
    "duration": 18,
    "start_time": "2024-09-13T09:52:22.263Z"
   },
   {
    "duration": 17,
    "start_time": "2024-09-13T09:52:38.886Z"
   },
   {
    "duration": 17,
    "start_time": "2024-09-13T09:52:56.680Z"
   },
   {
    "duration": 17,
    "start_time": "2024-09-13T09:53:10.361Z"
   },
   {
    "duration": 170,
    "start_time": "2024-09-13T09:54:23.582Z"
   },
   {
    "duration": 497,
    "start_time": "2024-09-13T09:54:32.594Z"
   },
   {
    "duration": 487,
    "start_time": "2024-09-13T09:55:50.725Z"
   },
   {
    "duration": 489,
    "start_time": "2024-09-13T09:56:02.917Z"
   },
   {
    "duration": 1216,
    "start_time": "2024-09-13T09:56:12.513Z"
   },
   {
    "duration": 196,
    "start_time": "2024-09-13T09:56:13.731Z"
   },
   {
    "duration": 8,
    "start_time": "2024-09-13T09:56:13.929Z"
   },
   {
    "duration": 10,
    "start_time": "2024-09-13T09:56:13.939Z"
   },
   {
    "duration": 121,
    "start_time": "2024-09-13T09:56:13.950Z"
   },
   {
    "duration": 97,
    "start_time": "2024-09-13T09:56:14.073Z"
   },
   {
    "duration": 38,
    "start_time": "2024-09-13T09:56:14.172Z"
   },
   {
    "duration": 13,
    "start_time": "2024-09-13T09:56:14.212Z"
   },
   {
    "duration": 3,
    "start_time": "2024-09-13T09:56:14.226Z"
   },
   {
    "duration": 31,
    "start_time": "2024-09-13T09:56:14.233Z"
   },
   {
    "duration": 15,
    "start_time": "2024-09-13T09:56:14.265Z"
   },
   {
    "duration": 4,
    "start_time": "2024-09-13T09:56:14.306Z"
   },
   {
    "duration": 4,
    "start_time": "2024-09-13T09:56:14.312Z"
   },
   {
    "duration": 801,
    "start_time": "2024-09-13T09:56:14.318Z"
   },
   {
    "duration": 2786,
    "start_time": "2024-09-13T09:56:15.121Z"
   },
   {
    "duration": 7,
    "start_time": "2024-09-13T09:56:17.909Z"
   },
   {
    "duration": 6,
    "start_time": "2024-09-13T09:56:17.918Z"
   },
   {
    "duration": 6,
    "start_time": "2024-09-13T09:56:17.926Z"
   },
   {
    "duration": 13,
    "start_time": "2024-09-13T09:56:17.933Z"
   },
   {
    "duration": 18,
    "start_time": "2024-09-13T09:56:17.948Z"
   },
   {
    "duration": 531,
    "start_time": "2024-09-13T09:56:17.967Z"
   },
   {
    "duration": 8,
    "start_time": "2024-09-13T09:56:18.499Z"
   },
   {
    "duration": 2,
    "start_time": "2024-09-13T09:56:18.509Z"
   },
   {
    "duration": 3,
    "start_time": "2024-09-13T09:56:18.512Z"
   },
   {
    "duration": 500,
    "start_time": "2024-09-13T09:57:29.901Z"
   },
   {
    "duration": 491,
    "start_time": "2024-09-13T09:59:48.728Z"
   },
   {
    "duration": 488,
    "start_time": "2024-09-13T10:01:03.227Z"
   },
   {
    "duration": 533,
    "start_time": "2024-09-13T10:05:31.482Z"
   },
   {
    "duration": 489,
    "start_time": "2024-09-13T10:06:59.362Z"
   },
   {
    "duration": 490,
    "start_time": "2024-09-13T10:07:10.466Z"
   },
   {
    "duration": 500,
    "start_time": "2024-09-13T10:07:32.585Z"
   },
   {
    "duration": 483,
    "start_time": "2024-09-13T10:07:35.905Z"
   },
   {
    "duration": 486,
    "start_time": "2024-09-13T10:07:45.727Z"
   },
   {
    "duration": 14,
    "start_time": "2024-09-13T10:10:41.928Z"
   },
   {
    "duration": 19,
    "start_time": "2024-09-13T10:10:51.231Z"
   },
   {
    "duration": 184,
    "start_time": "2024-09-13T10:18:08.894Z"
   },
   {
    "duration": 18,
    "start_time": "2024-09-13T10:18:50.709Z"
   },
   {
    "duration": 7,
    "start_time": "2024-09-13T10:19:07.694Z"
   },
   {
    "duration": 7,
    "start_time": "2024-09-13T10:19:49.839Z"
   },
   {
    "duration": 7,
    "start_time": "2024-09-13T10:20:22.381Z"
   },
   {
    "duration": 6,
    "start_time": "2024-09-13T10:20:34.233Z"
   },
   {
    "duration": 6,
    "start_time": "2024-09-13T10:20:45.935Z"
   },
   {
    "duration": 11,
    "start_time": "2024-09-13T10:22:26.047Z"
   },
   {
    "duration": 9,
    "start_time": "2024-09-13T10:22:30.724Z"
   },
   {
    "duration": 10,
    "start_time": "2024-09-13T10:24:07.541Z"
   },
   {
    "duration": 247,
    "start_time": "2024-09-13T10:24:41.524Z"
   },
   {
    "duration": 242,
    "start_time": "2024-09-13T10:25:20.820Z"
   },
   {
    "duration": 3,
    "start_time": "2024-09-13T10:25:30.532Z"
   },
   {
    "duration": 248,
    "start_time": "2024-09-13T10:25:34.114Z"
   },
   {
    "duration": 254,
    "start_time": "2024-09-13T10:25:39.741Z"
   },
   {
    "duration": 241,
    "start_time": "2024-09-13T10:25:46.587Z"
   },
   {
    "duration": 274,
    "start_time": "2024-09-13T10:41:22.512Z"
   },
   {
    "duration": 5,
    "start_time": "2024-09-13T10:45:42.797Z"
   },
   {
    "duration": 260,
    "start_time": "2024-09-13T10:45:49.788Z"
   },
   {
    "duration": 254,
    "start_time": "2024-09-13T10:46:13.176Z"
   },
   {
    "duration": 16,
    "start_time": "2024-09-13T10:46:42.191Z"
   },
   {
    "duration": 4,
    "start_time": "2024-09-13T10:46:47.533Z"
   },
   {
    "duration": 11,
    "start_time": "2024-09-13T10:46:53.748Z"
   },
   {
    "duration": 10,
    "start_time": "2024-09-13T10:47:00.406Z"
   },
   {
    "duration": 321,
    "start_time": "2024-09-13T10:47:32.372Z"
   },
   {
    "duration": 254,
    "start_time": "2024-09-13T10:48:04.823Z"
   },
   {
    "duration": 270,
    "start_time": "2024-09-13T10:48:32.884Z"
   },
   {
    "duration": 252,
    "start_time": "2024-09-13T10:51:23.328Z"
   },
   {
    "duration": 377,
    "start_time": "2024-09-13T10:52:27.015Z"
   },
   {
    "duration": 280,
    "start_time": "2024-09-13T10:55:45.707Z"
   },
   {
    "duration": 284,
    "start_time": "2024-09-13T10:55:58.203Z"
   },
   {
    "duration": 288,
    "start_time": "2024-09-13T10:57:55.546Z"
   },
   {
    "duration": 267,
    "start_time": "2024-09-13T11:00:29.167Z"
   },
   {
    "duration": 265,
    "start_time": "2024-09-13T11:00:50.198Z"
   },
   {
    "duration": 1586,
    "start_time": "2024-09-14T01:32:47.547Z"
   },
   {
    "duration": 221,
    "start_time": "2024-09-14T01:32:49.149Z"
   },
   {
    "duration": 9,
    "start_time": "2024-09-14T01:32:49.372Z"
   },
   {
    "duration": 11,
    "start_time": "2024-09-14T01:32:49.382Z"
   },
   {
    "duration": 140,
    "start_time": "2024-09-14T01:32:49.396Z"
   },
   {
    "duration": 109,
    "start_time": "2024-09-14T01:32:49.540Z"
   },
   {
    "duration": 29,
    "start_time": "2024-09-14T01:32:49.660Z"
   },
   {
    "duration": 12,
    "start_time": "2024-09-14T01:32:49.690Z"
   },
   {
    "duration": 4,
    "start_time": "2024-09-14T01:32:49.703Z"
   },
   {
    "duration": 57,
    "start_time": "2024-09-14T01:32:49.709Z"
   },
   {
    "duration": 37,
    "start_time": "2024-09-14T01:32:49.768Z"
   },
   {
    "duration": 4,
    "start_time": "2024-09-14T01:32:49.807Z"
   },
   {
    "duration": 5,
    "start_time": "2024-09-14T01:32:49.813Z"
   },
   {
    "duration": 920,
    "start_time": "2024-09-14T01:32:49.821Z"
   },
   {
    "duration": 3251,
    "start_time": "2024-09-14T01:32:50.743Z"
   },
   {
    "duration": 7,
    "start_time": "2024-09-14T01:32:53.996Z"
   },
   {
    "duration": 7,
    "start_time": "2024-09-14T01:32:54.004Z"
   },
   {
    "duration": 20,
    "start_time": "2024-09-14T01:32:54.013Z"
   },
   {
    "duration": 34,
    "start_time": "2024-09-14T01:32:54.035Z"
   },
   {
    "duration": 17,
    "start_time": "2024-09-14T01:32:54.071Z"
   },
   {
    "duration": 565,
    "start_time": "2024-09-14T01:32:54.089Z"
   },
   {
    "duration": 7,
    "start_time": "2024-09-14T01:32:54.656Z"
   },
   {
    "duration": 311,
    "start_time": "2024-09-14T01:32:54.665Z"
   },
   {
    "duration": 2,
    "start_time": "2024-09-14T01:32:54.978Z"
   },
   {
    "duration": 16,
    "start_time": "2024-09-14T01:35:39.751Z"
   },
   {
    "duration": 138,
    "start_time": "2024-09-14T01:36:34.626Z"
   },
   {
    "duration": 17,
    "start_time": "2024-09-14T01:36:48.393Z"
   },
   {
    "duration": 68,
    "start_time": "2024-09-14T01:38:23.045Z"
   },
   {
    "duration": 54,
    "start_time": "2024-09-14T01:38:39.860Z"
   },
   {
    "duration": 71,
    "start_time": "2024-09-14T01:39:12.617Z"
   },
   {
    "duration": 74,
    "start_time": "2024-09-14T01:39:39.817Z"
   },
   {
    "duration": 587,
    "start_time": "2024-09-14T01:40:01.022Z"
   },
   {
    "duration": 19,
    "start_time": "2024-09-14T01:40:56.096Z"
   },
   {
    "duration": 24,
    "start_time": "2024-09-14T01:41:39.644Z"
   },
   {
    "duration": 18,
    "start_time": "2024-09-14T01:41:52.897Z"
   },
   {
    "duration": 23,
    "start_time": "2024-09-14T01:42:02.750Z"
   },
   {
    "duration": 19,
    "start_time": "2024-09-14T01:43:26.856Z"
   },
   {
    "duration": 20,
    "start_time": "2024-09-14T01:43:48.992Z"
   },
   {
    "duration": 31,
    "start_time": "2024-09-14T01:44:25.424Z"
   },
   {
    "duration": 82,
    "start_time": "2024-09-14T01:45:01.904Z"
   },
   {
    "duration": 74,
    "start_time": "2024-09-14T01:45:29.601Z"
   },
   {
    "duration": 221,
    "start_time": "2024-09-14T01:45:43.582Z"
   },
   {
    "duration": 142,
    "start_time": "2024-09-14T01:47:26.478Z"
   },
   {
    "duration": 3,
    "start_time": "2024-09-14T01:48:04.392Z"
   },
   {
    "duration": 236,
    "start_time": "2024-09-14T01:48:09.927Z"
   },
   {
    "duration": 225,
    "start_time": "2024-09-14T01:49:01.638Z"
   },
   {
    "duration": 5,
    "start_time": "2024-09-14T01:49:15.711Z"
   },
   {
    "duration": 207,
    "start_time": "2024-09-14T01:49:19.839Z"
   },
   {
    "duration": 163,
    "start_time": "2024-09-14T01:49:32.141Z"
   },
   {
    "duration": 15,
    "start_time": "2024-09-14T01:50:06.630Z"
   },
   {
    "duration": 22,
    "start_time": "2024-09-14T01:50:38.452Z"
   },
   {
    "duration": 2717,
    "start_time": "2024-09-14T01:51:01.962Z"
   },
   {
    "duration": 2794,
    "start_time": "2024-09-14T01:53:33.537Z"
   },
   {
    "duration": 3221,
    "start_time": "2024-09-14T01:53:55.396Z"
   },
   {
    "duration": 2973,
    "start_time": "2024-09-14T01:54:19.255Z"
   },
   {
    "duration": 1370,
    "start_time": "2024-09-14T01:54:29.187Z"
   },
   {
    "duration": 223,
    "start_time": "2024-09-14T01:54:30.560Z"
   },
   {
    "duration": 8,
    "start_time": "2024-09-14T01:54:30.784Z"
   },
   {
    "duration": 11,
    "start_time": "2024-09-14T01:54:30.793Z"
   },
   {
    "duration": 151,
    "start_time": "2024-09-14T01:54:30.807Z"
   },
   {
    "duration": 96,
    "start_time": "2024-09-14T01:54:30.960Z"
   },
   {
    "duration": 33,
    "start_time": "2024-09-14T01:54:31.058Z"
   },
   {
    "duration": 12,
    "start_time": "2024-09-14T01:54:31.092Z"
   },
   {
    "duration": 4,
    "start_time": "2024-09-14T01:54:31.105Z"
   },
   {
    "duration": 76,
    "start_time": "2024-09-14T01:54:31.110Z"
   },
   {
    "duration": 16,
    "start_time": "2024-09-14T01:54:31.188Z"
   },
   {
    "duration": 4,
    "start_time": "2024-09-14T01:54:31.206Z"
   },
   {
    "duration": 4,
    "start_time": "2024-09-14T01:54:31.212Z"
   },
   {
    "duration": 927,
    "start_time": "2024-09-14T01:54:31.237Z"
   },
   {
    "duration": 3247,
    "start_time": "2024-09-14T01:54:32.166Z"
   },
   {
    "duration": 7,
    "start_time": "2024-09-14T01:54:35.415Z"
   },
   {
    "duration": 10,
    "start_time": "2024-09-14T01:54:35.432Z"
   },
   {
    "duration": 23,
    "start_time": "2024-09-14T01:54:35.444Z"
   },
   {
    "duration": 13,
    "start_time": "2024-09-14T01:54:35.470Z"
   },
   {
    "duration": 21,
    "start_time": "2024-09-14T01:54:35.485Z"
   },
   {
    "duration": 550,
    "start_time": "2024-09-14T01:54:35.508Z"
   },
   {
    "duration": 8,
    "start_time": "2024-09-14T01:54:36.060Z"
   },
   {
    "duration": 352,
    "start_time": "2024-09-14T01:54:36.069Z"
   },
   {
    "duration": 2761,
    "start_time": "2024-09-14T01:54:36.423Z"
   },
   {
    "duration": 564,
    "start_time": "2024-09-14T01:55:47.444Z"
   },
   {
    "duration": 548,
    "start_time": "2024-09-14T01:56:11.820Z"
   },
   {
    "duration": 167,
    "start_time": "2024-09-14T01:57:19.375Z"
   },
   {
    "duration": 208,
    "start_time": "2024-09-14T01:57:32.666Z"
   },
   {
    "duration": 148,
    "start_time": "2024-09-14T01:57:57.959Z"
   },
   {
    "duration": 167,
    "start_time": "2024-09-14T01:58:06.498Z"
   },
   {
    "duration": 269,
    "start_time": "2024-09-14T01:58:42.223Z"
   },
   {
    "duration": 1116,
    "start_time": "2024-09-14T01:58:58.043Z"
   },
   {
    "duration": 2020,
    "start_time": "2024-09-14T01:59:07.352Z"
   },
   {
    "duration": 169,
    "start_time": "2024-09-14T01:59:19.001Z"
   },
   {
    "duration": 183,
    "start_time": "2024-09-14T02:00:03.075Z"
   },
   {
    "duration": 661,
    "start_time": "2024-09-14T02:00:32.491Z"
   },
   {
    "duration": 701,
    "start_time": "2024-09-14T02:01:06.491Z"
   },
   {
    "duration": 660,
    "start_time": "2024-09-14T02:02:08.056Z"
   },
   {
    "duration": 650,
    "start_time": "2024-09-14T02:03:14.222Z"
   },
   {
    "duration": 799,
    "start_time": "2024-09-14T02:04:01.689Z"
   },
   {
    "duration": 674,
    "start_time": "2024-09-14T02:04:39.986Z"
   },
   {
    "duration": 649,
    "start_time": "2024-09-14T02:07:31.826Z"
   },
   {
    "duration": 677,
    "start_time": "2024-09-14T02:07:50.280Z"
   },
   {
    "duration": 129,
    "start_time": "2024-09-14T02:08:43.739Z"
   },
   {
    "duration": 1320,
    "start_time": "2024-09-14T02:09:15.501Z"
   },
   {
    "duration": 246,
    "start_time": "2024-09-14T02:09:16.823Z"
   },
   {
    "duration": 8,
    "start_time": "2024-09-14T02:09:17.071Z"
   },
   {
    "duration": 11,
    "start_time": "2024-09-14T02:09:17.081Z"
   },
   {
    "duration": 146,
    "start_time": "2024-09-14T02:09:17.095Z"
   },
   {
    "duration": 109,
    "start_time": "2024-09-14T02:09:17.243Z"
   },
   {
    "duration": 37,
    "start_time": "2024-09-14T02:09:17.361Z"
   },
   {
    "duration": 13,
    "start_time": "2024-09-14T02:09:17.399Z"
   },
   {
    "duration": 3,
    "start_time": "2024-09-14T02:09:17.413Z"
   },
   {
    "duration": 43,
    "start_time": "2024-09-14T02:09:17.442Z"
   },
   {
    "duration": 16,
    "start_time": "2024-09-14T02:09:17.487Z"
   },
   {
    "duration": 4,
    "start_time": "2024-09-14T02:09:17.504Z"
   },
   {
    "duration": 4,
    "start_time": "2024-09-14T02:09:17.510Z"
   },
   {
    "duration": 959,
    "start_time": "2024-09-14T02:09:17.517Z"
   },
   {
    "duration": 3276,
    "start_time": "2024-09-14T02:09:18.478Z"
   },
   {
    "duration": 8,
    "start_time": "2024-09-14T02:09:21.756Z"
   },
   {
    "duration": 7,
    "start_time": "2024-09-14T02:09:21.766Z"
   },
   {
    "duration": 7,
    "start_time": "2024-09-14T02:09:21.775Z"
   },
   {
    "duration": 13,
    "start_time": "2024-09-14T02:09:21.783Z"
   },
   {
    "duration": 42,
    "start_time": "2024-09-14T02:09:21.798Z"
   },
   {
    "duration": 545,
    "start_time": "2024-09-14T02:09:21.844Z"
   },
   {
    "duration": 7,
    "start_time": "2024-09-14T02:09:22.390Z"
   },
   {
    "duration": 338,
    "start_time": "2024-09-14T02:09:22.398Z"
   },
   {
    "duration": 104,
    "start_time": "2024-09-14T02:09:22.748Z"
   },
   {
    "duration": 108,
    "start_time": "2024-09-14T02:09:57.063Z"
   },
   {
    "duration": 490,
    "start_time": "2024-09-14T02:10:07.460Z"
   },
   {
    "duration": 1378,
    "start_time": "2024-09-14T02:11:27.191Z"
   },
   {
    "duration": 231,
    "start_time": "2024-09-14T02:11:28.571Z"
   },
   {
    "duration": 8,
    "start_time": "2024-09-14T02:11:28.803Z"
   },
   {
    "duration": 30,
    "start_time": "2024-09-14T02:11:28.815Z"
   },
   {
    "duration": 133,
    "start_time": "2024-09-14T02:11:28.847Z"
   },
   {
    "duration": 116,
    "start_time": "2024-09-14T02:11:28.982Z"
   },
   {
    "duration": 64,
    "start_time": "2024-09-14T02:11:29.100Z"
   },
   {
    "duration": 13,
    "start_time": "2024-09-14T02:11:29.166Z"
   },
   {
    "duration": 3,
    "start_time": "2024-09-14T02:11:29.181Z"
   },
   {
    "duration": 32,
    "start_time": "2024-09-14T02:11:29.188Z"
   },
   {
    "duration": 42,
    "start_time": "2024-09-14T02:11:29.222Z"
   },
   {
    "duration": 5,
    "start_time": "2024-09-14T02:11:29.265Z"
   },
   {
    "duration": 4,
    "start_time": "2024-09-14T02:11:29.272Z"
   },
   {
    "duration": 892,
    "start_time": "2024-09-14T02:11:29.278Z"
   },
   {
    "duration": 3199,
    "start_time": "2024-09-14T02:11:30.176Z"
   },
   {
    "duration": 9,
    "start_time": "2024-09-14T02:11:33.377Z"
   },
   {
    "duration": 8,
    "start_time": "2024-09-14T02:11:33.388Z"
   },
   {
    "duration": 7,
    "start_time": "2024-09-14T02:11:33.398Z"
   },
   {
    "duration": 47,
    "start_time": "2024-09-14T02:11:33.409Z"
   },
   {
    "duration": 20,
    "start_time": "2024-09-14T02:11:33.458Z"
   },
   {
    "duration": 538,
    "start_time": "2024-09-14T02:11:33.480Z"
   },
   {
    "duration": 22,
    "start_time": "2024-09-14T02:11:34.020Z"
   },
   {
    "duration": 334,
    "start_time": "2024-09-14T02:11:34.045Z"
   },
   {
    "duration": 107,
    "start_time": "2024-09-14T02:11:34.381Z"
   },
   {
    "duration": 584,
    "start_time": "2024-09-14T02:11:43.689Z"
   },
   {
    "duration": 112,
    "start_time": "2024-09-14T02:12:27.590Z"
   },
   {
    "duration": 97,
    "start_time": "2024-09-14T02:12:33.099Z"
   },
   {
    "duration": 16,
    "start_time": "2024-09-14T02:14:14.667Z"
   },
   {
    "duration": 23,
    "start_time": "2024-09-14T02:14:30.192Z"
   },
   {
    "duration": 24,
    "start_time": "2024-09-14T02:14:50.462Z"
   },
   {
    "duration": 3,
    "start_time": "2024-09-14T02:26:48.284Z"
   },
   {
    "duration": 5,
    "start_time": "2024-09-14T02:26:51.591Z"
   },
   {
    "duration": 3,
    "start_time": "2024-09-14T02:27:07.490Z"
   },
   {
    "duration": 6,
    "start_time": "2024-09-14T02:27:13.211Z"
   },
   {
    "duration": 10,
    "start_time": "2024-09-14T02:27:47.227Z"
   },
   {
    "duration": 13,
    "start_time": "2024-09-14T02:34:04.589Z"
   },
   {
    "duration": 2502,
    "start_time": "2024-09-14T02:35:45.710Z"
   },
   {
    "duration": 146,
    "start_time": "2024-09-14T02:36:02.546Z"
   },
   {
    "duration": 148,
    "start_time": "2024-09-14T02:37:16.748Z"
   },
   {
    "duration": 141,
    "start_time": "2024-09-14T02:37:54.663Z"
   },
   {
    "duration": 148,
    "start_time": "2024-09-14T02:38:09.255Z"
   },
   {
    "duration": 155,
    "start_time": "2024-09-14T02:38:16.623Z"
   },
   {
    "duration": 154,
    "start_time": "2024-09-14T02:40:56.904Z"
   },
   {
    "duration": 239,
    "start_time": "2024-09-14T02:41:03.249Z"
   },
   {
    "duration": 147,
    "start_time": "2024-09-14T02:41:10.638Z"
   },
   {
    "duration": 145,
    "start_time": "2024-09-14T02:41:20.573Z"
   },
   {
    "duration": 167,
    "start_time": "2024-09-14T02:43:01.458Z"
   },
   {
    "duration": 170,
    "start_time": "2024-09-14T02:43:49.677Z"
   },
   {
    "duration": 266,
    "start_time": "2024-09-14T02:44:19.220Z"
   },
   {
    "duration": 257,
    "start_time": "2024-09-14T02:45:47.152Z"
   },
   {
    "duration": 297,
    "start_time": "2024-09-14T02:47:07.955Z"
   },
   {
    "duration": 402,
    "start_time": "2024-09-14T02:51:57.742Z"
   },
   {
    "duration": 4,
    "start_time": "2024-09-14T02:53:49.892Z"
   },
   {
    "duration": 14,
    "start_time": "2024-09-14T02:53:55.843Z"
   },
   {
    "duration": 16,
    "start_time": "2024-09-14T02:54:54.601Z"
   },
   {
    "duration": 17,
    "start_time": "2024-09-14T02:55:09.992Z"
   },
   {
    "duration": 8,
    "start_time": "2024-09-14T02:58:08.339Z"
   },
   {
    "duration": 13,
    "start_time": "2024-09-14T02:58:44.503Z"
   },
   {
    "duration": 18,
    "start_time": "2024-09-14T02:59:28.851Z"
   },
   {
    "duration": 14,
    "start_time": "2024-09-14T03:00:23.473Z"
   },
   {
    "duration": 17,
    "start_time": "2024-09-14T03:00:31.348Z"
   },
   {
    "duration": 313,
    "start_time": "2024-09-14T03:00:48.441Z"
   },
   {
    "duration": 149,
    "start_time": "2024-09-14T03:01:55.471Z"
   },
   {
    "duration": 147,
    "start_time": "2024-09-14T03:02:10.375Z"
   },
   {
    "duration": 147,
    "start_time": "2024-09-14T03:02:42.062Z"
   },
   {
    "duration": 1314,
    "start_time": "2024-09-14T10:29:59.209Z"
   },
   {
    "duration": 188,
    "start_time": "2024-09-14T10:30:00.525Z"
   },
   {
    "duration": 8,
    "start_time": "2024-09-14T10:30:00.716Z"
   },
   {
    "duration": 11,
    "start_time": "2024-09-14T10:30:00.726Z"
   },
   {
    "duration": 118,
    "start_time": "2024-09-14T10:30:00.739Z"
   },
   {
    "duration": 98,
    "start_time": "2024-09-14T10:30:00.858Z"
   },
   {
    "duration": 28,
    "start_time": "2024-09-14T10:30:00.958Z"
   },
   {
    "duration": 24,
    "start_time": "2024-09-14T10:30:00.988Z"
   },
   {
    "duration": 4,
    "start_time": "2024-09-14T10:30:01.013Z"
   },
   {
    "duration": 32,
    "start_time": "2024-09-14T10:30:01.019Z"
   },
   {
    "duration": 16,
    "start_time": "2024-09-14T10:30:01.053Z"
   },
   {
    "duration": 6,
    "start_time": "2024-09-14T10:30:01.070Z"
   },
   {
    "duration": 29,
    "start_time": "2024-09-14T10:30:01.077Z"
   },
   {
    "duration": 800,
    "start_time": "2024-09-14T10:30:01.110Z"
   },
   {
    "duration": 2768,
    "start_time": "2024-09-14T10:30:01.912Z"
   },
   {
    "duration": 8,
    "start_time": "2024-09-14T10:30:04.681Z"
   },
   {
    "duration": 17,
    "start_time": "2024-09-14T10:30:04.691Z"
   },
   {
    "duration": 6,
    "start_time": "2024-09-14T10:30:04.709Z"
   },
   {
    "duration": 14,
    "start_time": "2024-09-14T10:30:04.717Z"
   },
   {
    "duration": 18,
    "start_time": "2024-09-14T10:30:04.732Z"
   },
   {
    "duration": 514,
    "start_time": "2024-09-14T10:30:04.752Z"
   },
   {
    "duration": 6,
    "start_time": "2024-09-14T10:30:05.268Z"
   },
   {
    "duration": 291,
    "start_time": "2024-09-14T10:30:05.276Z"
   },
   {
    "duration": 103,
    "start_time": "2024-09-14T10:30:05.569Z"
   },
   {
    "duration": 22,
    "start_time": "2024-09-14T10:30:05.674Z"
   },
   {
    "duration": 1932,
    "start_time": "2024-09-14T10:30:05.705Z"
   },
   {
    "duration": 140,
    "start_time": "2024-09-14T10:30:07.638Z"
   },
   {
    "duration": 11,
    "start_time": "2024-09-14T10:30:40.498Z"
   },
   {
    "duration": 23,
    "start_time": "2024-09-14T10:31:03.139Z"
   },
   {
    "duration": 24,
    "start_time": "2024-09-14T10:31:51.435Z"
   },
   {
    "duration": 137,
    "start_time": "2024-09-14T10:33:33.282Z"
   },
   {
    "duration": 223,
    "start_time": "2024-09-14T10:33:44.612Z"
   },
   {
    "duration": 164,
    "start_time": "2024-09-14T10:34:07.290Z"
   },
   {
    "duration": 169,
    "start_time": "2024-09-14T10:34:34.369Z"
   },
   {
    "duration": 6,
    "start_time": "2024-09-14T10:35:14.786Z"
   },
   {
    "duration": 174,
    "start_time": "2024-09-14T10:35:18.848Z"
   },
   {
    "duration": 358,
    "start_time": "2024-09-14T10:35:49.721Z"
   },
   {
    "duration": 172,
    "start_time": "2024-09-14T10:37:05.129Z"
   },
   {
    "duration": 174,
    "start_time": "2024-09-14T10:37:16.657Z"
   },
   {
    "duration": 214,
    "start_time": "2024-09-14T10:37:51.192Z"
   },
   {
    "duration": 158,
    "start_time": "2024-09-14T10:37:58.874Z"
   },
   {
    "duration": 146,
    "start_time": "2024-09-14T10:38:40.015Z"
   },
   {
    "duration": 147,
    "start_time": "2024-09-14T10:38:53.311Z"
   },
   {
    "duration": 167,
    "start_time": "2024-09-14T10:41:32.719Z"
   },
   {
    "duration": 223,
    "start_time": "2024-09-14T10:47:53.070Z"
   },
   {
    "duration": 218,
    "start_time": "2024-09-14T10:51:11.450Z"
   },
   {
    "duration": 225,
    "start_time": "2024-09-14T10:51:22.371Z"
   },
   {
    "duration": 228,
    "start_time": "2024-09-14T10:51:39.661Z"
   },
   {
    "duration": 19,
    "start_time": "2024-09-14T10:54:47.780Z"
   },
   {
    "duration": 157,
    "start_time": "2024-09-14T10:55:42.602Z"
   },
   {
    "duration": 150,
    "start_time": "2024-09-14T10:55:52.221Z"
   },
   {
    "duration": 19,
    "start_time": "2024-09-14T10:57:26.483Z"
   },
   {
    "duration": 25,
    "start_time": "2024-09-14T10:57:50.793Z"
   },
   {
    "duration": 26,
    "start_time": "2024-09-14T10:58:38.280Z"
   },
   {
    "duration": 836,
    "start_time": "2024-09-14T11:11:35.132Z"
   },
   {
    "duration": 157,
    "start_time": "2024-09-14T11:11:35.970Z"
   },
   {
    "duration": 9,
    "start_time": "2024-09-14T11:11:36.129Z"
   },
   {
    "duration": 10,
    "start_time": "2024-09-14T11:11:36.140Z"
   },
   {
    "duration": 107,
    "start_time": "2024-09-14T11:11:36.152Z"
   },
   {
    "duration": 94,
    "start_time": "2024-09-14T11:11:36.262Z"
   },
   {
    "duration": 33,
    "start_time": "2024-09-14T11:11:36.358Z"
   },
   {
    "duration": 24,
    "start_time": "2024-09-14T11:11:36.393Z"
   },
   {
    "duration": 3,
    "start_time": "2024-09-14T11:11:36.419Z"
   },
   {
    "duration": 33,
    "start_time": "2024-09-14T11:11:36.426Z"
   },
   {
    "duration": 15,
    "start_time": "2024-09-14T11:11:36.461Z"
   },
   {
    "duration": 34,
    "start_time": "2024-09-14T11:11:36.478Z"
   },
   {
    "duration": 4,
    "start_time": "2024-09-14T11:11:36.515Z"
   },
   {
    "duration": 806,
    "start_time": "2024-09-14T11:11:36.521Z"
   },
   {
    "duration": 2879,
    "start_time": "2024-09-14T11:11:37.329Z"
   },
   {
    "duration": 8,
    "start_time": "2024-09-14T11:11:40.211Z"
   },
   {
    "duration": 8,
    "start_time": "2024-09-14T11:11:40.220Z"
   },
   {
    "duration": 8,
    "start_time": "2024-09-14T11:11:40.229Z"
   },
   {
    "duration": 14,
    "start_time": "2024-09-14T11:11:40.240Z"
   },
   {
    "duration": 50,
    "start_time": "2024-09-14T11:11:40.256Z"
   },
   {
    "duration": 498,
    "start_time": "2024-09-14T11:11:40.308Z"
   },
   {
    "duration": 8,
    "start_time": "2024-09-14T11:11:40.808Z"
   },
   {
    "duration": 354,
    "start_time": "2024-09-14T11:11:40.817Z"
   },
   {
    "duration": 110,
    "start_time": "2024-09-14T11:11:41.173Z"
   },
   {
    "duration": 31,
    "start_time": "2024-09-14T11:11:41.285Z"
   },
   {
    "duration": 136,
    "start_time": "2024-09-14T11:11:41.318Z"
   },
   {
    "duration": 136,
    "start_time": "2024-09-14T11:11:41.456Z"
   },
   {
    "duration": 158,
    "start_time": "2024-09-14T11:11:41.604Z"
   },
   {
    "duration": 26,
    "start_time": "2024-09-14T11:11:41.764Z"
   },
   {
    "duration": 89,
    "start_time": "2024-09-14T11:11:49.293Z"
   },
   {
    "duration": 5,
    "start_time": "2024-09-14T11:12:19.228Z"
   },
   {
    "duration": 279,
    "start_time": "2024-09-14T11:12:53.261Z"
   },
   {
    "duration": 275,
    "start_time": "2024-09-14T11:13:02.204Z"
   },
   {
    "duration": 146,
    "start_time": "2024-09-14T11:13:25.173Z"
   },
   {
    "duration": 150,
    "start_time": "2024-09-14T11:13:34.212Z"
   },
   {
    "duration": 808,
    "start_time": "2024-09-14T11:13:47.766Z"
   },
   {
    "duration": 145,
    "start_time": "2024-09-14T11:13:58.834Z"
   },
   {
    "duration": 141,
    "start_time": "2024-09-14T11:14:11.470Z"
   },
   {
    "duration": 7,
    "start_time": "2024-09-14T11:14:39.467Z"
   },
   {
    "duration": 10,
    "start_time": "2024-09-14T11:14:48.556Z"
   },
   {
    "duration": 150,
    "start_time": "2024-09-14T11:14:58.379Z"
   },
   {
    "duration": 800,
    "start_time": "2024-09-14T11:15:35.599Z"
   },
   {
    "duration": 160,
    "start_time": "2024-09-14T11:15:36.401Z"
   },
   {
    "duration": 9,
    "start_time": "2024-09-14T11:15:36.563Z"
   },
   {
    "duration": 9,
    "start_time": "2024-09-14T11:15:36.574Z"
   },
   {
    "duration": 92,
    "start_time": "2024-09-14T11:15:36.584Z"
   },
   {
    "duration": 79,
    "start_time": "2024-09-14T11:15:36.678Z"
   },
   {
    "duration": 22,
    "start_time": "2024-09-14T11:15:36.759Z"
   },
   {
    "duration": 25,
    "start_time": "2024-09-14T11:15:36.783Z"
   },
   {
    "duration": 3,
    "start_time": "2024-09-14T11:15:36.810Z"
   },
   {
    "duration": 30,
    "start_time": "2024-09-14T11:15:36.817Z"
   },
   {
    "duration": 16,
    "start_time": "2024-09-14T11:15:36.849Z"
   },
   {
    "duration": 5,
    "start_time": "2024-09-14T11:15:36.866Z"
   },
   {
    "duration": 33,
    "start_time": "2024-09-14T11:15:36.873Z"
   },
   {
    "duration": 701,
    "start_time": "2024-09-14T11:15:36.908Z"
   },
   {
    "duration": 2572,
    "start_time": "2024-09-14T11:15:37.610Z"
   },
   {
    "duration": 7,
    "start_time": "2024-09-14T11:15:40.184Z"
   },
   {
    "duration": 17,
    "start_time": "2024-09-14T11:15:40.193Z"
   },
   {
    "duration": 9,
    "start_time": "2024-09-14T11:15:43.345Z"
   },
   {
    "duration": 6,
    "start_time": "2024-09-14T11:15:56.036Z"
   },
   {
    "duration": 149,
    "start_time": "2024-09-14T11:18:44.610Z"
   },
   {
    "duration": 219,
    "start_time": "2024-09-14T11:18:53.277Z"
   },
   {
    "duration": 186,
    "start_time": "2024-09-15T00:36:18.717Z"
   },
   {
    "duration": 1525,
    "start_time": "2024-09-15T00:36:25.999Z"
   },
   {
    "duration": 270,
    "start_time": "2024-09-15T00:36:27.527Z"
   },
   {
    "duration": 7,
    "start_time": "2024-09-15T00:36:27.799Z"
   },
   {
    "duration": 10,
    "start_time": "2024-09-15T00:36:27.808Z"
   },
   {
    "duration": 146,
    "start_time": "2024-09-15T00:36:27.831Z"
   },
   {
    "duration": 105,
    "start_time": "2024-09-15T00:36:27.981Z"
   },
   {
    "duration": 27,
    "start_time": "2024-09-15T00:36:28.088Z"
   },
   {
    "duration": 32,
    "start_time": "2024-09-15T00:36:28.117Z"
   },
   {
    "duration": 8,
    "start_time": "2024-09-15T00:36:28.159Z"
   },
   {
    "duration": 34,
    "start_time": "2024-09-15T00:36:28.172Z"
   },
   {
    "duration": 16,
    "start_time": "2024-09-15T00:36:28.208Z"
   },
   {
    "duration": 25,
    "start_time": "2024-09-15T00:36:28.231Z"
   },
   {
    "duration": 9,
    "start_time": "2024-09-15T00:36:28.258Z"
   },
   {
    "duration": 886,
    "start_time": "2024-09-15T00:36:28.271Z"
   },
   {
    "duration": 3224,
    "start_time": "2024-09-15T00:36:29.159Z"
   },
   {
    "duration": 6,
    "start_time": "2024-09-15T00:36:32.385Z"
   },
   {
    "duration": 7,
    "start_time": "2024-09-15T00:36:32.393Z"
   },
   {
    "duration": 6,
    "start_time": "2024-09-15T00:36:32.401Z"
   },
   {
    "duration": 43,
    "start_time": "2024-09-15T00:36:32.408Z"
   },
   {
    "duration": 20,
    "start_time": "2024-09-15T00:36:32.457Z"
   },
   {
    "duration": 538,
    "start_time": "2024-09-15T00:36:32.479Z"
   },
   {
    "duration": 24,
    "start_time": "2024-09-15T00:36:33.018Z"
   },
   {
    "duration": 325,
    "start_time": "2024-09-15T00:36:33.055Z"
   },
   {
    "duration": 107,
    "start_time": "2024-09-15T00:36:33.382Z"
   },
   {
    "duration": 26,
    "start_time": "2024-09-15T00:36:33.490Z"
   },
   {
    "duration": 2353,
    "start_time": "2024-09-15T00:36:33.518Z"
   },
   {
    "duration": 198,
    "start_time": "2024-09-15T00:36:35.873Z"
   },
   {
    "duration": 196,
    "start_time": "2024-09-15T00:36:36.075Z"
   },
   {
    "duration": 8,
    "start_time": "2024-09-15T00:36:36.273Z"
   },
   {
    "duration": 7,
    "start_time": "2024-09-15T00:37:53.562Z"
   },
   {
    "duration": 19,
    "start_time": "2024-09-15T00:38:05.223Z"
   },
   {
    "duration": 145,
    "start_time": "2024-09-15T00:39:02.261Z"
   },
   {
    "duration": 139,
    "start_time": "2024-09-15T00:40:19.197Z"
   },
   {
    "duration": 134,
    "start_time": "2024-09-15T00:40:28.076Z"
   },
   {
    "duration": 176,
    "start_time": "2024-09-15T00:40:42.542Z"
   },
   {
    "duration": 148,
    "start_time": "2024-09-15T00:40:49.970Z"
   },
   {
    "duration": 281,
    "start_time": "2024-09-15T00:40:58.189Z"
   },
   {
    "duration": 254,
    "start_time": "2024-09-15T00:41:57.363Z"
   },
   {
    "duration": 338,
    "start_time": "2024-09-15T00:42:06.812Z"
   },
   {
    "duration": 284,
    "start_time": "2024-09-15T00:42:26.283Z"
   },
   {
    "duration": 260,
    "start_time": "2024-09-15T00:42:36.559Z"
   },
   {
    "duration": 295,
    "start_time": "2024-09-15T00:42:47.400Z"
   },
   {
    "duration": 5,
    "start_time": "2024-09-15T00:50:26.393Z"
   },
   {
    "duration": 12,
    "start_time": "2024-09-15T00:51:18.845Z"
   },
   {
    "duration": 7,
    "start_time": "2024-09-15T00:51:24.113Z"
   },
   {
    "duration": 149,
    "start_time": "2024-09-15T00:59:19.255Z"
   },
   {
    "duration": 1228,
    "start_time": "2024-09-15T01:00:05.782Z"
   },
   {
    "duration": 37,
    "start_time": "2024-09-15T01:04:07.125Z"
   },
   {
    "duration": 20,
    "start_time": "2024-09-15T01:04:38.590Z"
   },
   {
    "duration": 9,
    "start_time": "2024-09-15T01:11:03.999Z"
   },
   {
    "duration": 7,
    "start_time": "2024-09-15T01:11:20.052Z"
   },
   {
    "duration": 23,
    "start_time": "2024-09-15T01:11:34.594Z"
   },
   {
    "duration": 53,
    "start_time": "2024-09-15T01:11:53.204Z"
   },
   {
    "duration": 39,
    "start_time": "2024-09-15T01:12:04.891Z"
   },
   {
    "duration": 35,
    "start_time": "2024-09-15T01:12:15.987Z"
   },
   {
    "duration": 46,
    "start_time": "2024-09-15T01:17:35.940Z"
   },
   {
    "duration": 53,
    "start_time": "2024-09-15T01:17:45.224Z"
   },
   {
    "duration": 88,
    "start_time": "2024-09-15T01:18:05.424Z"
   },
   {
    "duration": 93,
    "start_time": "2024-09-15T01:18:48.507Z"
   },
   {
    "duration": 86,
    "start_time": "2024-09-15T01:19:47.042Z"
   },
   {
    "duration": 52,
    "start_time": "2024-09-15T01:20:01.428Z"
   },
   {
    "duration": 4,
    "start_time": "2024-09-15T01:22:44.183Z"
   },
   {
    "duration": 351,
    "start_time": "2024-09-15T01:22:50.910Z"
   },
   {
    "duration": 359,
    "start_time": "2024-09-15T01:23:51.005Z"
   },
   {
    "duration": 1513,
    "start_time": "2024-09-15T09:01:39.772Z"
   },
   {
    "duration": 194,
    "start_time": "2024-09-15T09:01:41.287Z"
   },
   {
    "duration": 8,
    "start_time": "2024-09-15T09:01:41.483Z"
   },
   {
    "duration": 11,
    "start_time": "2024-09-15T09:01:41.493Z"
   },
   {
    "duration": 121,
    "start_time": "2024-09-15T09:01:41.506Z"
   },
   {
    "duration": 94,
    "start_time": "2024-09-15T09:01:41.628Z"
   },
   {
    "duration": 32,
    "start_time": "2024-09-15T09:01:41.723Z"
   },
   {
    "duration": 12,
    "start_time": "2024-09-15T09:01:41.757Z"
   },
   {
    "duration": 3,
    "start_time": "2024-09-15T09:01:41.771Z"
   },
   {
    "duration": 31,
    "start_time": "2024-09-15T09:01:41.777Z"
   },
   {
    "duration": 40,
    "start_time": "2024-09-15T09:01:41.810Z"
   },
   {
    "duration": 4,
    "start_time": "2024-09-15T09:01:41.852Z"
   },
   {
    "duration": 5,
    "start_time": "2024-09-15T09:01:41.858Z"
   },
   {
    "duration": 765,
    "start_time": "2024-09-15T09:01:41.865Z"
   },
   {
    "duration": 2628,
    "start_time": "2024-09-15T09:01:42.632Z"
   },
   {
    "duration": 8,
    "start_time": "2024-09-15T09:01:45.262Z"
   },
   {
    "duration": 7,
    "start_time": "2024-09-15T09:01:45.272Z"
   },
   {
    "duration": 6,
    "start_time": "2024-09-15T09:01:45.281Z"
   },
   {
    "duration": 13,
    "start_time": "2024-09-15T09:01:45.289Z"
   },
   {
    "duration": 51,
    "start_time": "2024-09-15T09:01:45.303Z"
   },
   {
    "duration": 491,
    "start_time": "2024-09-15T09:01:45.356Z"
   },
   {
    "duration": 7,
    "start_time": "2024-09-15T09:01:45.850Z"
   },
   {
    "duration": 271,
    "start_time": "2024-09-15T09:01:45.858Z"
   },
   {
    "duration": 112,
    "start_time": "2024-09-15T09:01:46.131Z"
   },
   {
    "duration": 23,
    "start_time": "2024-09-15T09:01:46.244Z"
   },
   {
    "duration": 1939,
    "start_time": "2024-09-15T09:01:46.268Z"
   },
   {
    "duration": 143,
    "start_time": "2024-09-15T09:01:48.209Z"
   },
   {
    "duration": 169,
    "start_time": "2024-09-15T09:01:48.355Z"
   },
   {
    "duration": 283,
    "start_time": "2024-09-15T09:01:48.526Z"
   },
   {
    "duration": 313,
    "start_time": "2024-09-15T09:01:48.811Z"
   },
   {
    "duration": 445,
    "start_time": "2024-09-15T09:05:24.651Z"
   },
   {
    "duration": 454,
    "start_time": "2024-09-15T09:08:23.538Z"
   },
   {
    "duration": 8,
    "start_time": "2024-09-15T09:10:22.259Z"
   },
   {
    "duration": 559,
    "start_time": "2024-09-15T09:11:34.478Z"
   },
   {
    "duration": 127,
    "start_time": "2024-09-15T09:11:49.371Z"
   },
   {
    "duration": 4,
    "start_time": "2024-09-15T09:12:24.856Z"
   },
   {
    "duration": 71,
    "start_time": "2024-09-15T09:14:20.903Z"
   },
   {
    "duration": 160,
    "start_time": "2024-09-15T09:14:58.721Z"
   },
   {
    "duration": 93,
    "start_time": "2024-09-15T09:17:55.635Z"
   },
   {
    "duration": 90,
    "start_time": "2024-09-15T09:18:56.622Z"
   },
   {
    "duration": 5,
    "start_time": "2024-09-15T09:23:54.188Z"
   },
   {
    "duration": 5,
    "start_time": "2024-09-15T09:24:06.555Z"
   },
   {
    "duration": 140,
    "start_time": "2024-09-15T09:24:13.964Z"
   },
   {
    "duration": 5,
    "start_time": "2024-09-15T09:24:55.484Z"
   },
   {
    "duration": 5,
    "start_time": "2024-09-15T09:25:02.982Z"
   },
   {
    "duration": 9,
    "start_time": "2024-09-15T09:25:48.628Z"
   },
   {
    "duration": 7,
    "start_time": "2024-09-15T09:27:15.316Z"
   },
   {
    "duration": 28,
    "start_time": "2024-09-15T09:30:13.850Z"
   },
   {
    "duration": 12,
    "start_time": "2024-09-15T09:30:29.297Z"
   },
   {
    "duration": 11,
    "start_time": "2024-09-15T09:30:43.988Z"
   },
   {
    "duration": 10,
    "start_time": "2024-09-15T09:30:59.291Z"
   },
   {
    "duration": 94,
    "start_time": "2024-09-15T09:31:10.595Z"
   },
   {
    "duration": 10,
    "start_time": "2024-09-15T09:31:21.290Z"
   },
   {
    "duration": 10,
    "start_time": "2024-09-15T09:31:51.905Z"
   },
   {
    "duration": 10,
    "start_time": "2024-09-15T09:32:32.298Z"
   },
   {
    "duration": 6,
    "start_time": "2024-09-15T09:33:18.954Z"
   },
   {
    "duration": 5,
    "start_time": "2024-09-15T09:34:13.099Z"
   },
   {
    "duration": 6,
    "start_time": "2024-09-15T09:34:34.649Z"
   },
   {
    "duration": 6,
    "start_time": "2024-09-15T09:34:56.056Z"
   },
   {
    "duration": 12,
    "start_time": "2024-09-15T09:35:16.793Z"
   },
   {
    "duration": 11,
    "start_time": "2024-09-15T09:36:05.546Z"
   },
   {
    "duration": 93,
    "start_time": "2024-09-15T09:37:47.383Z"
   },
   {
    "duration": 98,
    "start_time": "2024-09-15T09:38:10.927Z"
   },
   {
    "duration": 16,
    "start_time": "2024-09-15T09:39:31.061Z"
   },
   {
    "duration": 5,
    "start_time": "2024-09-15T09:39:41.462Z"
   },
   {
    "duration": 9,
    "start_time": "2024-09-15T09:40:49.391Z"
   },
   {
    "duration": 91,
    "start_time": "2024-09-15T09:41:38.789Z"
   },
   {
    "duration": 94,
    "start_time": "2024-09-15T09:41:49.662Z"
   },
   {
    "duration": 39,
    "start_time": "2024-09-15T09:42:08.109Z"
   },
   {
    "duration": 10,
    "start_time": "2024-09-15T09:42:31.893Z"
   },
   {
    "duration": 13,
    "start_time": "2024-09-15T09:42:40.070Z"
   },
   {
    "duration": 69,
    "start_time": "2024-09-15T09:42:52.862Z"
   },
   {
    "duration": 754,
    "start_time": "2024-09-15T09:43:48.263Z"
   },
   {
    "duration": 229,
    "start_time": "2024-09-15T09:44:20.069Z"
   },
   {
    "duration": 491,
    "start_time": "2024-09-15T09:46:48.292Z"
   },
   {
    "duration": 14,
    "start_time": "2024-09-15T09:48:06.939Z"
   },
   {
    "duration": 373,
    "start_time": "2024-09-15T09:48:19.243Z"
   },
   {
    "duration": 381,
    "start_time": "2024-09-15T09:48:37.319Z"
   },
   {
    "duration": 497,
    "start_time": "2024-09-15T09:48:43.965Z"
   },
   {
    "duration": 1256,
    "start_time": "2024-09-15T09:48:49.931Z"
   },
   {
    "duration": 504,
    "start_time": "2024-09-15T09:48:59.398Z"
   },
   {
    "duration": 458,
    "start_time": "2024-09-15T09:49:08.687Z"
   },
   {
    "duration": 421,
    "start_time": "2024-09-15T09:49:14.627Z"
   },
   {
    "duration": 436,
    "start_time": "2024-09-15T09:49:19.499Z"
   },
   {
    "duration": 574,
    "start_time": "2024-09-15T09:49:26.386Z"
   },
   {
    "duration": 447,
    "start_time": "2024-09-15T09:49:32.627Z"
   },
   {
    "duration": 445,
    "start_time": "2024-09-15T09:49:39.804Z"
   },
   {
    "duration": 454,
    "start_time": "2024-09-15T09:49:47.090Z"
   },
   {
    "duration": 453,
    "start_time": "2024-09-15T09:49:52.996Z"
   },
   {
    "duration": 560,
    "start_time": "2024-09-15T09:50:10.554Z"
   },
   {
    "duration": 443,
    "start_time": "2024-09-15T09:50:45.530Z"
   },
   {
    "duration": 246,
    "start_time": "2024-09-15T09:51:06.066Z"
   },
   {
    "duration": 241,
    "start_time": "2024-09-15T09:51:13.546Z"
   },
   {
    "duration": 239,
    "start_time": "2024-09-15T09:51:19.666Z"
   },
   {
    "duration": 445,
    "start_time": "2024-09-15T09:51:39.313Z"
   },
   {
    "duration": 476,
    "start_time": "2024-09-15T09:55:30.346Z"
   },
   {
    "duration": 449,
    "start_time": "2024-09-15T09:57:13.625Z"
   },
   {
    "duration": 8,
    "start_time": "2024-09-15T10:00:45.415Z"
   },
   {
    "duration": 14,
    "start_time": "2024-09-15T10:01:04.976Z"
   },
   {
    "duration": 91,
    "start_time": "2024-09-15T10:02:23.319Z"
   },
   {
    "duration": 96,
    "start_time": "2024-09-15T10:02:36.110Z"
   },
   {
    "duration": 4,
    "start_time": "2024-09-15T10:02:53.960Z"
   },
   {
    "duration": 165,
    "start_time": "2024-09-15T10:03:03.230Z"
   },
   {
    "duration": 102,
    "start_time": "2024-09-15T10:03:15.743Z"
   },
   {
    "duration": 98,
    "start_time": "2024-09-15T10:04:08.221Z"
   },
   {
    "duration": 100,
    "start_time": "2024-09-15T10:04:17.653Z"
   },
   {
    "duration": 99,
    "start_time": "2024-09-15T10:04:28.566Z"
   },
   {
    "duration": 5,
    "start_time": "2024-09-15T10:05:29.246Z"
   },
   {
    "duration": 96,
    "start_time": "2024-09-15T10:05:34.140Z"
   },
   {
    "duration": 87,
    "start_time": "2024-09-15T10:06:36.742Z"
   },
   {
    "duration": 88,
    "start_time": "2024-09-15T10:06:59.646Z"
   },
   {
    "duration": 5,
    "start_time": "2024-09-15T10:07:08.382Z"
   },
   {
    "duration": 87,
    "start_time": "2024-09-15T10:07:17.565Z"
   },
   {
    "duration": 87,
    "start_time": "2024-09-15T10:07:24.109Z"
   },
   {
    "duration": 88,
    "start_time": "2024-09-15T10:09:26.428Z"
   },
   {
    "duration": 89,
    "start_time": "2024-09-15T10:09:45.772Z"
   },
   {
    "duration": 89,
    "start_time": "2024-09-15T10:09:49.933Z"
   },
   {
    "duration": 97,
    "start_time": "2024-09-15T10:10:00.427Z"
   },
   {
    "duration": 92,
    "start_time": "2024-09-15T10:12:04.595Z"
   },
   {
    "duration": 432,
    "start_time": "2024-09-15T10:13:25.139Z"
   },
   {
    "duration": 327,
    "start_time": "2024-09-15T10:13:46.330Z"
   },
   {
    "duration": 1703,
    "start_time": "2024-09-16T23:42:06.301Z"
   },
   {
    "duration": 189,
    "start_time": "2024-09-16T23:42:08.006Z"
   },
   {
    "duration": 8,
    "start_time": "2024-09-16T23:42:08.197Z"
   },
   {
    "duration": 11,
    "start_time": "2024-09-16T23:42:08.207Z"
   },
   {
    "duration": 120,
    "start_time": "2024-09-16T23:42:08.219Z"
   },
   {
    "duration": 85,
    "start_time": "2024-09-16T23:42:08.342Z"
   },
   {
    "duration": 35,
    "start_time": "2024-09-16T23:42:08.429Z"
   },
   {
    "duration": 12,
    "start_time": "2024-09-16T23:42:08.466Z"
   },
   {
    "duration": 3,
    "start_time": "2024-09-16T23:42:08.480Z"
   },
   {
    "duration": 58,
    "start_time": "2024-09-16T23:42:08.487Z"
   },
   {
    "duration": 16,
    "start_time": "2024-09-16T23:42:08.547Z"
   },
   {
    "duration": 5,
    "start_time": "2024-09-16T23:42:08.565Z"
   },
   {
    "duration": 6,
    "start_time": "2024-09-16T23:42:08.571Z"
   },
   {
    "duration": 747,
    "start_time": "2024-09-16T23:42:08.579Z"
   },
   {
    "duration": 2753,
    "start_time": "2024-09-16T23:42:09.328Z"
   },
   {
    "duration": 7,
    "start_time": "2024-09-16T23:42:12.084Z"
   },
   {
    "duration": 7,
    "start_time": "2024-09-16T23:42:12.094Z"
   },
   {
    "duration": 5,
    "start_time": "2024-09-16T23:42:12.103Z"
   },
   {
    "duration": 33,
    "start_time": "2024-09-16T23:42:12.110Z"
   },
   {
    "duration": 17,
    "start_time": "2024-09-16T23:42:12.144Z"
   },
   {
    "duration": 503,
    "start_time": "2024-09-16T23:42:12.163Z"
   },
   {
    "duration": 6,
    "start_time": "2024-09-16T23:42:12.668Z"
   },
   {
    "duration": 303,
    "start_time": "2024-09-16T23:42:12.676Z"
   },
   {
    "duration": 102,
    "start_time": "2024-09-16T23:42:12.981Z"
   },
   {
    "duration": 22,
    "start_time": "2024-09-16T23:42:13.085Z"
   },
   {
    "duration": 1972,
    "start_time": "2024-09-16T23:42:13.108Z"
   },
   {
    "duration": 146,
    "start_time": "2024-09-16T23:42:15.083Z"
   },
   {
    "duration": 200,
    "start_time": "2024-09-16T23:42:15.233Z"
   },
   {
    "duration": 240,
    "start_time": "2024-09-16T23:42:15.437Z"
   },
   {
    "duration": 325,
    "start_time": "2024-09-16T23:42:15.681Z"
   },
   {
    "duration": 101,
    "start_time": "2024-09-16T23:42:16.008Z"
   },
   {
    "duration": 437,
    "start_time": "2024-09-16T23:42:16.111Z"
   },
   {
    "duration": 122,
    "start_time": "2024-09-16T23:42:16.550Z"
   },
   {
    "duration": 148,
    "start_time": "2024-09-16T23:43:22.506Z"
   },
   {
    "duration": 143,
    "start_time": "2024-09-16T23:43:29.897Z"
   },
   {
    "duration": 328,
    "start_time": "2024-09-16T23:44:50.585Z"
   },
   {
    "duration": 395,
    "start_time": "2024-09-16T23:45:28.081Z"
   },
   {
    "duration": 381,
    "start_time": "2024-09-16T23:45:40.376Z"
   },
   {
    "duration": 379,
    "start_time": "2024-09-16T23:45:54.320Z"
   },
   {
    "duration": 419,
    "start_time": "2024-09-16T23:46:02.584Z"
   },
   {
    "duration": 391,
    "start_time": "2024-09-16T23:46:10.801Z"
   },
   {
    "duration": 107,
    "start_time": "2024-09-16T23:48:32.770Z"
   },
   {
    "duration": 107,
    "start_time": "2024-09-16T23:48:40.920Z"
   },
   {
    "duration": 108,
    "start_time": "2024-09-16T23:49:34.628Z"
   },
   {
    "duration": 111,
    "start_time": "2024-09-16T23:50:08.392Z"
   },
   {
    "duration": 542,
    "start_time": "2024-09-16T23:50:29.039Z"
   },
   {
    "duration": 275,
    "start_time": "2024-09-16T23:53:43.774Z"
   },
   {
    "duration": 290,
    "start_time": "2024-09-16T23:55:18.574Z"
   },
   {
    "duration": 341,
    "start_time": "2024-09-16T23:55:26.429Z"
   },
   {
    "duration": 10,
    "start_time": "2024-09-16T23:57:13.411Z"
   },
   {
    "duration": 7,
    "start_time": "2024-09-16T23:59:41.865Z"
   },
   {
    "duration": 10,
    "start_time": "2024-09-16T23:59:48.148Z"
   },
   {
    "duration": 6,
    "start_time": "2024-09-17T00:00:15.613Z"
   },
   {
    "duration": 12,
    "start_time": "2024-09-17T00:00:22.277Z"
   },
   {
    "duration": 12,
    "start_time": "2024-09-17T00:02:14.154Z"
   },
   {
    "duration": 525,
    "start_time": "2024-09-17T00:02:56.442Z"
   },
   {
    "duration": 295,
    "start_time": "2024-09-17T00:04:13.872Z"
   },
   {
    "duration": 567,
    "start_time": "2024-09-17T00:04:25.337Z"
   },
   {
    "duration": 280,
    "start_time": "2024-09-17T00:05:00.593Z"
   },
   {
    "duration": 244,
    "start_time": "2024-09-17T00:05:16.977Z"
   },
   {
    "duration": 278,
    "start_time": "2024-09-17T00:05:20.882Z"
   },
   {
    "duration": 300,
    "start_time": "2024-09-17T00:42:34.613Z"
   },
   {
    "duration": 8,
    "start_time": "2024-09-17T00:43:27.426Z"
   },
   {
    "duration": 256,
    "start_time": "2024-09-17T00:44:05.012Z"
   },
   {
    "duration": 310,
    "start_time": "2024-09-17T00:44:49.972Z"
   },
   {
    "duration": 271,
    "start_time": "2024-09-17T00:46:05.188Z"
   },
   {
    "duration": 390,
    "start_time": "2024-09-17T00:46:53.042Z"
   },
   {
    "duration": 270,
    "start_time": "2024-09-17T00:48:03.259Z"
   },
   {
    "duration": 58,
    "start_time": "2024-09-17T00:51:13.140Z"
   },
   {
    "duration": 39,
    "start_time": "2024-09-17T00:51:38.743Z"
   },
   {
    "duration": 279,
    "start_time": "2024-09-17T00:53:30.601Z"
   },
   {
    "duration": 287,
    "start_time": "2024-09-17T00:54:20.465Z"
   },
   {
    "duration": 12,
    "start_time": "2024-09-17T00:54:54.793Z"
   },
   {
    "duration": 282,
    "start_time": "2024-09-17T00:55:25.415Z"
   },
   {
    "duration": 282,
    "start_time": "2024-09-17T00:55:30.927Z"
   },
   {
    "duration": 39,
    "start_time": "2024-09-17T00:55:44.912Z"
   },
   {
    "duration": 42,
    "start_time": "2024-09-17T00:56:09.206Z"
   },
   {
    "duration": 270,
    "start_time": "2024-09-17T00:56:36.912Z"
   },
   {
    "duration": 272,
    "start_time": "2024-09-17T00:58:11.687Z"
   },
   {
    "duration": 42,
    "start_time": "2024-09-17T00:58:34.119Z"
   },
   {
    "duration": 15,
    "start_time": "2024-09-17T00:58:41.741Z"
   },
   {
    "duration": 5,
    "start_time": "2024-09-17T00:59:02.767Z"
   },
   {
    "duration": 261,
    "start_time": "2024-09-17T00:59:07.766Z"
   },
   {
    "duration": 279,
    "start_time": "2024-09-17T01:00:07.805Z"
   },
   {
    "duration": 40,
    "start_time": "2024-09-17T01:00:18.887Z"
   },
   {
    "duration": 25,
    "start_time": "2024-09-17T01:00:31.837Z"
   },
   {
    "duration": 183,
    "start_time": "2024-09-17T01:00:52.205Z"
   },
   {
    "duration": 285,
    "start_time": "2024-09-17T01:02:40.790Z"
   },
   {
    "duration": 189,
    "start_time": "2024-09-17T01:02:46.556Z"
   },
   {
    "duration": 220,
    "start_time": "2024-09-17T01:03:42.517Z"
   },
   {
    "duration": 39,
    "start_time": "2024-09-17T01:04:34.741Z"
   },
   {
    "duration": 8,
    "start_time": "2024-09-17T01:04:49.814Z"
   },
   {
    "duration": 7,
    "start_time": "2024-09-17T01:05:13.325Z"
   },
   {
    "duration": 8,
    "start_time": "2024-09-17T01:05:40.957Z"
   },
   {
    "duration": 238,
    "start_time": "2024-09-17T01:06:09.751Z"
   },
   {
    "duration": 54,
    "start_time": "2024-09-17T01:06:17.190Z"
   },
   {
    "duration": 10,
    "start_time": "2024-09-17T01:06:26.053Z"
   },
   {
    "duration": 48,
    "start_time": "2024-09-17T01:07:17.988Z"
   },
   {
    "duration": 13,
    "start_time": "2024-09-17T01:08:10.811Z"
   },
   {
    "duration": 23,
    "start_time": "2024-09-17T01:08:37.154Z"
   },
   {
    "duration": 17,
    "start_time": "2024-09-17T01:08:44.811Z"
   },
   {
    "duration": 19,
    "start_time": "2024-09-17T01:09:54.740Z"
   },
   {
    "duration": 18,
    "start_time": "2024-09-17T01:10:39.113Z"
   },
   {
    "duration": 17,
    "start_time": "2024-09-17T01:10:56.700Z"
   },
   {
    "duration": 487,
    "start_time": "2024-09-17T01:14:39.819Z"
   },
   {
    "duration": 638,
    "start_time": "2024-09-17T01:16:59.839Z"
   },
   {
    "duration": 611,
    "start_time": "2024-09-17T01:17:33.849Z"
   },
   {
    "duration": 599,
    "start_time": "2024-09-17T01:18:28.569Z"
   },
   {
    "duration": 226,
    "start_time": "2024-09-17T01:19:12.472Z"
   },
   {
    "duration": 581,
    "start_time": "2024-09-17T01:26:46.014Z"
   },
   {
    "duration": 631,
    "start_time": "2024-09-17T01:27:01.592Z"
   },
   {
    "duration": 652,
    "start_time": "2024-09-17T01:27:20.656Z"
   },
   {
    "duration": 4,
    "start_time": "2024-09-17T01:27:28.148Z"
   },
   {
    "duration": 614,
    "start_time": "2024-09-17T01:27:34.508Z"
   },
   {
    "duration": 632,
    "start_time": "2024-09-17T01:27:48.618Z"
   },
   {
    "duration": 621,
    "start_time": "2024-09-17T01:28:31.214Z"
   },
   {
    "duration": 592,
    "start_time": "2024-09-17T01:28:51.878Z"
   },
   {
    "duration": 637,
    "start_time": "2024-09-17T01:29:01.187Z"
   },
   {
    "duration": 109,
    "start_time": "2024-09-17T01:32:26.644Z"
   },
   {
    "duration": 668,
    "start_time": "2024-09-17T01:34:01.682Z"
   },
   {
    "duration": 718,
    "start_time": "2024-09-17T01:35:12.403Z"
   },
   {
    "duration": 697,
    "start_time": "2024-09-17T01:39:39.704Z"
   },
   {
    "duration": 116,
    "start_time": "2024-09-17T01:42:51.024Z"
   },
   {
    "duration": 83,
    "start_time": "2024-09-17T01:43:39.158Z"
   },
   {
    "duration": 42,
    "start_time": "2024-09-17T01:45:34.343Z"
   },
   {
    "duration": 85,
    "start_time": "2024-09-17T01:45:52.656Z"
   },
   {
    "duration": 198,
    "start_time": "2024-09-17T01:46:46.121Z"
   },
   {
    "duration": 90,
    "start_time": "2024-09-17T01:46:57.264Z"
   },
   {
    "duration": 88,
    "start_time": "2024-09-17T01:47:16.605Z"
   },
   {
    "duration": 591,
    "start_time": "2024-09-17T01:49:24.925Z"
   },
   {
    "duration": 6,
    "start_time": "2024-09-17T01:49:37.276Z"
   },
   {
    "duration": 93,
    "start_time": "2024-09-17T01:49:46.244Z"
   },
   {
    "duration": 20,
    "start_time": "2024-09-17T01:49:54.644Z"
   },
   {
    "duration": 20,
    "start_time": "2024-09-17T01:49:59.300Z"
   },
   {
    "duration": 18,
    "start_time": "2024-09-17T01:50:15.076Z"
   },
   {
    "duration": 17,
    "start_time": "2024-09-17T01:50:22.365Z"
   },
   {
    "duration": 16,
    "start_time": "2024-09-17T01:50:34.436Z"
   },
   {
    "duration": 574,
    "start_time": "2024-09-17T01:53:04.507Z"
   },
   {
    "duration": 574,
    "start_time": "2024-09-17T01:55:49.319Z"
   },
   {
    "duration": 92,
    "start_time": "2024-09-17T02:00:02.537Z"
   },
   {
    "duration": 19,
    "start_time": "2024-09-17T02:01:24.890Z"
   },
   {
    "duration": 17,
    "start_time": "2024-09-17T02:01:42.561Z"
   },
   {
    "duration": 592,
    "start_time": "2024-09-17T02:03:13.024Z"
   },
   {
    "duration": 581,
    "start_time": "2024-09-17T02:03:53.440Z"
   },
   {
    "duration": 576,
    "start_time": "2024-09-17T02:04:18.584Z"
   },
   {
    "duration": 548,
    "start_time": "2024-09-17T02:06:17.214Z"
   },
   {
    "duration": 606,
    "start_time": "2024-09-17T02:07:00.159Z"
   },
   {
    "duration": 614,
    "start_time": "2024-09-17T02:08:29.157Z"
   },
   {
    "duration": 683,
    "start_time": "2024-09-17T02:08:38.606Z"
   },
   {
    "duration": 711,
    "start_time": "2024-09-17T02:09:22.942Z"
   },
   {
    "duration": 634,
    "start_time": "2024-09-17T02:09:31.933Z"
   },
   {
    "duration": 26,
    "start_time": "2024-09-17T02:10:34.652Z"
   },
   {
    "duration": 93,
    "start_time": "2024-09-17T02:11:09.414Z"
   },
   {
    "duration": 661,
    "start_time": "2024-09-17T02:11:51.197Z"
   },
   {
    "duration": 797,
    "start_time": "2024-09-17T02:11:54.804Z"
   },
   {
    "duration": 99,
    "start_time": "2024-09-17T02:11:58.005Z"
   },
   {
    "duration": 127,
    "start_time": "2024-09-17T02:12:22.543Z"
   },
   {
    "duration": 90,
    "start_time": "2024-09-17T02:12:56.148Z"
   },
   {
    "duration": 92,
    "start_time": "2024-09-17T02:13:04.005Z"
   },
   {
    "duration": 92,
    "start_time": "2024-09-17T02:13:29.958Z"
   },
   {
    "duration": 18,
    "start_time": "2024-09-17T02:13:38.901Z"
   },
   {
    "duration": 17,
    "start_time": "2024-09-17T02:14:04.487Z"
   },
   {
    "duration": 15,
    "start_time": "2024-09-17T02:14:28.119Z"
   },
   {
    "duration": 18,
    "start_time": "2024-09-17T02:14:40.845Z"
   },
   {
    "duration": 17,
    "start_time": "2024-09-17T02:14:58.963Z"
   },
   {
    "duration": 22,
    "start_time": "2024-09-17T02:15:19.795Z"
   },
   {
    "duration": 91,
    "start_time": "2024-09-17T02:15:45.292Z"
   },
   {
    "duration": 19,
    "start_time": "2024-09-17T02:15:54.843Z"
   },
   {
    "duration": 18,
    "start_time": "2024-09-17T02:16:04.794Z"
   },
   {
    "duration": 18,
    "start_time": "2024-09-17T02:16:09.571Z"
   },
   {
    "duration": 25,
    "start_time": "2024-09-17T02:16:58.814Z"
   },
   {
    "duration": 770,
    "start_time": "2024-09-17T02:19:00.923Z"
   },
   {
    "duration": 96,
    "start_time": "2024-09-17T02:19:40.569Z"
   },
   {
    "duration": 90,
    "start_time": "2024-09-17T02:21:48.138Z"
   },
   {
    "duration": 570,
    "start_time": "2024-09-17T02:24:30.888Z"
   },
   {
    "duration": 488,
    "start_time": "2024-09-17T02:24:52.936Z"
   },
   {
    "duration": 746,
    "start_time": "2024-09-17T02:25:06.458Z"
   },
   {
    "duration": 92,
    "start_time": "2024-09-17T02:25:10.813Z"
   },
   {
    "duration": 30,
    "start_time": "2024-09-17T02:25:35.023Z"
   },
   {
    "duration": 19,
    "start_time": "2024-09-17T02:25:50.295Z"
   },
   {
    "duration": 19,
    "start_time": "2024-09-17T02:25:58.319Z"
   },
   {
    "duration": 25,
    "start_time": "2024-09-17T02:26:21.288Z"
   },
   {
    "duration": 739,
    "start_time": "2024-09-17T02:27:41.554Z"
   },
   {
    "duration": 90,
    "start_time": "2024-09-17T02:29:01.488Z"
   },
   {
    "duration": 1312,
    "start_time": "2024-09-17T09:44:58.002Z"
   },
   {
    "duration": 191,
    "start_time": "2024-09-17T09:44:59.317Z"
   },
   {
    "duration": 9,
    "start_time": "2024-09-17T09:44:59.510Z"
   },
   {
    "duration": 10,
    "start_time": "2024-09-17T09:44:59.532Z"
   },
   {
    "duration": 114,
    "start_time": "2024-09-17T09:44:59.544Z"
   },
   {
    "duration": 89,
    "start_time": "2024-09-17T09:44:59.659Z"
   },
   {
    "duration": 30,
    "start_time": "2024-09-17T09:44:59.750Z"
   },
   {
    "duration": 14,
    "start_time": "2024-09-17T09:44:59.782Z"
   },
   {
    "duration": 5,
    "start_time": "2024-09-17T09:44:59.798Z"
   },
   {
    "duration": 59,
    "start_time": "2024-09-17T09:44:59.806Z"
   },
   {
    "duration": 18,
    "start_time": "2024-09-17T09:44:59.867Z"
   },
   {
    "duration": 4,
    "start_time": "2024-09-17T09:44:59.886Z"
   },
   {
    "duration": 5,
    "start_time": "2024-09-17T09:44:59.892Z"
   },
   {
    "duration": 788,
    "start_time": "2024-09-17T09:44:59.898Z"
   },
   {
    "duration": 2744,
    "start_time": "2024-09-17T09:45:00.688Z"
   },
   {
    "duration": 8,
    "start_time": "2024-09-17T09:45:03.434Z"
   },
   {
    "duration": 6,
    "start_time": "2024-09-17T09:45:03.446Z"
   },
   {
    "duration": 6,
    "start_time": "2024-09-17T09:45:03.454Z"
   },
   {
    "duration": 12,
    "start_time": "2024-09-17T09:45:03.462Z"
   },
   {
    "duration": 17,
    "start_time": "2024-09-17T09:45:03.477Z"
   },
   {
    "duration": 516,
    "start_time": "2024-09-17T09:45:03.495Z"
   },
   {
    "duration": 7,
    "start_time": "2024-09-17T09:45:04.013Z"
   },
   {
    "duration": 282,
    "start_time": "2024-09-17T09:45:04.031Z"
   },
   {
    "duration": 106,
    "start_time": "2024-09-17T09:45:04.315Z"
   },
   {
    "duration": 29,
    "start_time": "2024-09-17T09:45:04.422Z"
   },
   {
    "duration": 2002,
    "start_time": "2024-09-17T09:45:04.453Z"
   },
   {
    "duration": 140,
    "start_time": "2024-09-17T09:45:06.456Z"
   },
   {
    "duration": 170,
    "start_time": "2024-09-17T09:45:06.599Z"
   },
   {
    "duration": 249,
    "start_time": "2024-09-17T09:45:06.771Z"
   },
   {
    "duration": 412,
    "start_time": "2024-09-17T09:45:07.022Z"
   },
   {
    "duration": 94,
    "start_time": "2024-09-17T09:45:07.437Z"
   },
   {
    "duration": 470,
    "start_time": "2024-09-17T09:45:07.533Z"
   },
   {
    "duration": 125,
    "start_time": "2024-09-17T09:45:08.004Z"
   },
   {
    "duration": 117,
    "start_time": "2024-09-17T09:45:08.131Z"
   },
   {
    "duration": 786,
    "start_time": "2024-09-17T09:45:08.250Z"
   },
   {
    "duration": 101,
    "start_time": "2024-09-17T09:45:09.038Z"
   },
   {
    "duration": 108,
    "start_time": "2024-09-17T09:47:21.927Z"
   },
   {
    "duration": 84,
    "start_time": "2024-09-17T09:47:55.502Z"
   },
   {
    "duration": 84,
    "start_time": "2024-09-17T09:48:24.600Z"
   },
   {
    "duration": 86,
    "start_time": "2024-09-17T09:48:29.456Z"
   },
   {
    "duration": 87,
    "start_time": "2024-09-17T09:48:51.327Z"
   },
   {
    "duration": 73,
    "start_time": "2024-09-17T09:49:09.432Z"
   },
   {
    "duration": 79,
    "start_time": "2024-09-17T09:49:17.960Z"
   },
   {
    "duration": 191,
    "start_time": "2024-09-17T09:51:00.360Z"
   },
   {
    "duration": 13,
    "start_time": "2024-09-17T09:51:16.608Z"
   },
   {
    "duration": 7,
    "start_time": "2024-09-17T09:51:34.302Z"
   },
   {
    "duration": 6,
    "start_time": "2024-09-17T09:51:51.055Z"
   },
   {
    "duration": 72,
    "start_time": "2024-09-17T09:52:26.447Z"
   },
   {
    "duration": 97,
    "start_time": "2024-09-17T09:54:40.934Z"
   },
   {
    "duration": 93,
    "start_time": "2024-09-17T09:55:21.611Z"
   },
   {
    "duration": 168,
    "start_time": "2024-09-17T09:55:38.853Z"
   },
   {
    "duration": 619,
    "start_time": "2024-09-17T09:55:50.528Z"
   },
   {
    "duration": 184,
    "start_time": "2024-09-17T09:56:01.944Z"
   },
   {
    "duration": 805,
    "start_time": "2024-09-17T09:56:16.999Z"
   },
   {
    "duration": 451,
    "start_time": "2024-09-17T10:19:24.047Z"
   },
   {
    "duration": 40,
    "start_time": "2024-09-17T10:19:54.918Z"
   },
   {
    "duration": 48,
    "start_time": "2024-09-17T10:20:14.071Z"
   },
   {
    "duration": 58,
    "start_time": "2024-09-17T10:20:42.101Z"
   },
   {
    "duration": 63,
    "start_time": "2024-09-17T10:21:13.758Z"
   },
   {
    "duration": 53,
    "start_time": "2024-09-17T10:21:23.718Z"
   },
   {
    "duration": 752,
    "start_time": "2024-09-17T10:21:47.991Z"
   },
   {
    "duration": 767,
    "start_time": "2024-09-17T10:21:55.598Z"
   },
   {
    "duration": 773,
    "start_time": "2024-09-17T10:22:04.046Z"
   },
   {
    "duration": 743,
    "start_time": "2024-09-17T10:22:16.637Z"
   },
   {
    "duration": 784,
    "start_time": "2024-09-17T10:23:31.017Z"
   },
   {
    "duration": 750,
    "start_time": "2024-09-17T10:23:44.342Z"
   },
   {
    "duration": 253,
    "start_time": "2024-09-17T10:25:25.659Z"
   },
   {
    "duration": 77,
    "start_time": "2024-09-17T10:25:34.269Z"
   },
   {
    "duration": 9,
    "start_time": "2024-09-17T10:26:08.819Z"
   },
   {
    "duration": 12,
    "start_time": "2024-09-17T10:26:30.577Z"
   },
   {
    "duration": 64,
    "start_time": "2024-09-17T10:27:07.282Z"
   },
   {
    "duration": 55,
    "start_time": "2024-09-17T10:27:16.699Z"
   },
   {
    "duration": 54,
    "start_time": "2024-09-17T10:29:08.291Z"
   },
   {
    "duration": 74,
    "start_time": "2024-09-17T10:30:54.140Z"
   },
   {
    "duration": 74,
    "start_time": "2024-09-17T10:31:14.114Z"
   },
   {
    "duration": 12,
    "start_time": "2024-09-17T10:31:50.457Z"
   },
   {
    "duration": 11,
    "start_time": "2024-09-17T10:32:19.435Z"
   },
   {
    "duration": 13,
    "start_time": "2024-09-17T10:32:38.568Z"
   },
   {
    "duration": 12,
    "start_time": "2024-09-17T10:33:15.211Z"
   },
   {
    "duration": 12,
    "start_time": "2024-09-17T10:33:28.059Z"
   },
   {
    "duration": 72,
    "start_time": "2024-09-17T10:33:39.671Z"
   },
   {
    "duration": 12,
    "start_time": "2024-09-17T10:33:51.240Z"
   },
   {
    "duration": 12,
    "start_time": "2024-09-17T10:34:03.481Z"
   },
   {
    "duration": 132,
    "start_time": "2024-09-17T10:37:17.695Z"
   },
   {
    "duration": 56,
    "start_time": "2024-09-17T10:40:09.502Z"
   },
   {
    "duration": 62,
    "start_time": "2024-09-17T10:40:17.711Z"
   },
   {
    "duration": 67,
    "start_time": "2024-09-17T10:41:13.793Z"
   },
   {
    "duration": 56,
    "start_time": "2024-09-17T10:41:25.231Z"
   },
   {
    "duration": 57,
    "start_time": "2024-09-17T10:41:34.809Z"
   },
   {
    "duration": 58,
    "start_time": "2024-09-17T10:42:18.630Z"
   },
   {
    "duration": 90,
    "start_time": "2024-09-17T10:45:01.548Z"
   },
   {
    "duration": 85,
    "start_time": "2024-09-17T10:45:22.957Z"
   },
   {
    "duration": 89,
    "start_time": "2024-09-17T10:50:50.247Z"
   },
   {
    "duration": 84,
    "start_time": "2024-09-17T10:51:16.577Z"
   },
   {
    "duration": 26,
    "start_time": "2024-09-17T10:52:48.080Z"
   },
   {
    "duration": 26,
    "start_time": "2024-09-17T10:52:54.800Z"
   },
   {
    "duration": 5,
    "start_time": "2024-09-17T10:53:35.047Z"
   },
   {
    "duration": 31,
    "start_time": "2024-09-17T10:54:00.831Z"
   },
   {
    "duration": 87,
    "start_time": "2024-09-17T10:57:41.015Z"
   },
   {
    "duration": 169,
    "start_time": "2024-09-17T10:58:11.968Z"
   },
   {
    "duration": 86,
    "start_time": "2024-09-17T10:58:30.223Z"
   },
   {
    "duration": 86,
    "start_time": "2024-09-17T10:58:44.439Z"
   },
   {
    "duration": 11,
    "start_time": "2024-09-17T11:06:48.184Z"
   },
   {
    "duration": 541,
    "start_time": "2024-09-17T11:12:40.650Z"
   },
   {
    "duration": 572,
    "start_time": "2024-09-17T11:12:51.442Z"
   },
   {
    "duration": 611,
    "start_time": "2024-09-17T11:12:58.230Z"
   },
   {
    "duration": 533,
    "start_time": "2024-09-17T11:13:04.459Z"
   },
   {
    "duration": 521,
    "start_time": "2024-09-17T11:13:09.522Z"
   },
   {
    "duration": 619,
    "start_time": "2024-09-17T11:13:15.929Z"
   },
   {
    "duration": 510,
    "start_time": "2024-09-17T11:13:22.854Z"
   },
   {
    "duration": 1352,
    "start_time": "2024-09-17T23:33:38.774Z"
   },
   {
    "duration": 190,
    "start_time": "2024-09-17T23:33:40.128Z"
   },
   {
    "duration": 9,
    "start_time": "2024-09-17T23:33:40.319Z"
   },
   {
    "duration": 18,
    "start_time": "2024-09-17T23:33:40.330Z"
   },
   {
    "duration": 109,
    "start_time": "2024-09-17T23:33:40.350Z"
   },
   {
    "duration": 104,
    "start_time": "2024-09-17T23:33:40.461Z"
   },
   {
    "duration": 32,
    "start_time": "2024-09-17T23:33:40.567Z"
   },
   {
    "duration": 12,
    "start_time": "2024-09-17T23:33:40.601Z"
   },
   {
    "duration": 3,
    "start_time": "2024-09-17T23:33:40.615Z"
   },
   {
    "duration": 37,
    "start_time": "2024-09-17T23:33:40.644Z"
   },
   {
    "duration": 16,
    "start_time": "2024-09-17T23:33:40.683Z"
   },
   {
    "duration": 5,
    "start_time": "2024-09-17T23:33:40.700Z"
   },
   {
    "duration": 4,
    "start_time": "2024-09-17T23:33:40.706Z"
   },
   {
    "duration": 786,
    "start_time": "2024-09-17T23:33:40.712Z"
   },
   {
    "duration": 2704,
    "start_time": "2024-09-17T23:33:41.500Z"
   },
   {
    "duration": 7,
    "start_time": "2024-09-17T23:33:44.206Z"
   },
   {
    "duration": 7,
    "start_time": "2024-09-17T23:33:44.215Z"
   },
   {
    "duration": 18,
    "start_time": "2024-09-17T23:33:44.225Z"
   },
   {
    "duration": 16,
    "start_time": "2024-09-17T23:33:44.245Z"
   },
   {
    "duration": 18,
    "start_time": "2024-09-17T23:33:44.263Z"
   },
   {
    "duration": 516,
    "start_time": "2024-09-17T23:33:44.285Z"
   },
   {
    "duration": 6,
    "start_time": "2024-09-17T23:33:44.803Z"
   },
   {
    "duration": 274,
    "start_time": "2024-09-17T23:33:44.811Z"
   },
   {
    "duration": 114,
    "start_time": "2024-09-17T23:33:45.087Z"
   },
   {
    "duration": 22,
    "start_time": "2024-09-17T23:33:45.202Z"
   },
   {
    "duration": 1983,
    "start_time": "2024-09-17T23:33:45.226Z"
   },
   {
    "duration": 143,
    "start_time": "2024-09-17T23:33:47.210Z"
   },
   {
    "duration": 190,
    "start_time": "2024-09-17T23:33:47.357Z"
   },
   {
    "duration": 279,
    "start_time": "2024-09-17T23:33:47.548Z"
   },
   {
    "duration": 522,
    "start_time": "2024-09-17T23:33:47.829Z"
   },
   {
    "duration": 92,
    "start_time": "2024-09-17T23:33:48.353Z"
   },
   {
    "duration": 457,
    "start_time": "2024-09-17T23:33:48.446Z"
   },
   {
    "duration": 122,
    "start_time": "2024-09-17T23:33:48.905Z"
   },
   {
    "duration": 133,
    "start_time": "2024-09-17T23:33:49.029Z"
   },
   {
    "duration": 738,
    "start_time": "2024-09-17T23:33:49.164Z"
   },
   {
    "duration": 95,
    "start_time": "2024-09-17T23:33:49.904Z"
   },
   {
    "duration": 73,
    "start_time": "2024-09-17T23:33:50.001Z"
   },
   {
    "duration": 73,
    "start_time": "2024-09-17T23:37:53.030Z"
   },
   {
    "duration": 74,
    "start_time": "2024-09-17T23:38:03.831Z"
   },
   {
    "duration": 90,
    "start_time": "2024-09-17T23:38:37.145Z"
   },
   {
    "duration": 88,
    "start_time": "2024-09-17T23:39:31.232Z"
   },
   {
    "duration": 93,
    "start_time": "2024-09-17T23:40:15.174Z"
   },
   {
    "duration": 88,
    "start_time": "2024-09-17T23:41:00.201Z"
   },
   {
    "duration": 257,
    "start_time": "2024-09-17T23:46:45.434Z"
   },
   {
    "duration": 313,
    "start_time": "2024-09-17T23:47:33.437Z"
   },
   {
    "duration": 94,
    "start_time": "2024-09-17T23:51:05.578Z"
   },
   {
    "duration": 5,
    "start_time": "2024-09-17T23:51:11.892Z"
   },
   {
    "duration": 103,
    "start_time": "2024-09-17T23:52:10.354Z"
   },
   {
    "duration": 9,
    "start_time": "2024-09-17T23:52:31.108Z"
   },
   {
    "duration": 258,
    "start_time": "2024-09-17T23:52:56.594Z"
   },
   {
    "duration": 270,
    "start_time": "2024-09-17T23:53:18.850Z"
   },
   {
    "duration": 250,
    "start_time": "2024-09-17T23:55:17.757Z"
   },
   {
    "duration": 316,
    "start_time": "2024-09-17T23:56:31.321Z"
   },
   {
    "duration": 257,
    "start_time": "2024-09-17T23:57:19.712Z"
   },
   {
    "duration": 252,
    "start_time": "2024-09-17T23:57:28.944Z"
   },
   {
    "duration": 253,
    "start_time": "2024-09-18T00:17:36.892Z"
   },
   {
    "duration": 120,
    "start_time": "2024-09-18T00:25:24.621Z"
   },
   {
    "duration": 1187,
    "start_time": "2024-09-18T00:27:12.543Z"
   },
   {
    "duration": 205,
    "start_time": "2024-09-18T00:27:13.732Z"
   },
   {
    "duration": 8,
    "start_time": "2024-09-18T00:27:13.943Z"
   },
   {
    "duration": 12,
    "start_time": "2024-09-18T00:27:13.953Z"
   },
   {
    "duration": 121,
    "start_time": "2024-09-18T00:27:13.966Z"
   },
   {
    "duration": 92,
    "start_time": "2024-09-18T00:27:14.089Z"
   },
   {
    "duration": 28,
    "start_time": "2024-09-18T00:27:14.183Z"
   },
   {
    "duration": 12,
    "start_time": "2024-09-18T00:27:14.213Z"
   },
   {
    "duration": 18,
    "start_time": "2024-09-18T00:27:14.226Z"
   },
   {
    "duration": 32,
    "start_time": "2024-09-18T00:27:14.247Z"
   },
   {
    "duration": 15,
    "start_time": "2024-09-18T00:27:14.281Z"
   },
   {
    "duration": 4,
    "start_time": "2024-09-18T00:27:14.299Z"
   },
   {
    "duration": 5,
    "start_time": "2024-09-18T00:27:14.305Z"
   },
   {
    "duration": 778,
    "start_time": "2024-09-18T00:27:14.342Z"
   },
   {
    "duration": 2741,
    "start_time": "2024-09-18T00:27:15.121Z"
   },
   {
    "duration": 8,
    "start_time": "2024-09-18T00:27:17.864Z"
   },
   {
    "duration": 7,
    "start_time": "2024-09-18T00:27:17.873Z"
   },
   {
    "duration": 6,
    "start_time": "2024-09-18T00:27:17.882Z"
   },
   {
    "duration": 14,
    "start_time": "2024-09-18T00:27:17.890Z"
   },
   {
    "duration": 45,
    "start_time": "2024-09-18T00:27:17.905Z"
   },
   {
    "duration": 496,
    "start_time": "2024-09-18T00:27:17.952Z"
   },
   {
    "duration": 6,
    "start_time": "2024-09-18T00:27:18.450Z"
   },
   {
    "duration": 284,
    "start_time": "2024-09-18T00:27:18.459Z"
   },
   {
    "duration": 105,
    "start_time": "2024-09-18T00:27:18.744Z"
   },
   {
    "duration": 22,
    "start_time": "2024-09-18T00:27:18.851Z"
   },
   {
    "duration": 328,
    "start_time": "2024-09-18T00:27:18.875Z"
   },
   {
    "duration": 137,
    "start_time": "2024-09-18T00:27:19.205Z"
   },
   {
    "duration": 170,
    "start_time": "2024-09-18T00:27:19.347Z"
   },
   {
    "duration": 237,
    "start_time": "2024-09-18T00:27:19.519Z"
   },
   {
    "duration": 91,
    "start_time": "2024-09-18T00:27:19.757Z"
   },
   {
    "duration": 265,
    "start_time": "2024-09-18T00:27:19.850Z"
   },
   {
    "duration": 114,
    "start_time": "2024-09-18T00:27:20.117Z"
   },
   {
    "duration": 485,
    "start_time": "2024-09-18T00:27:20.233Z"
   },
   {
    "duration": 139,
    "start_time": "2024-09-18T00:27:20.720Z"
   },
   {
    "duration": 113,
    "start_time": "2024-09-18T00:27:20.861Z"
   },
   {
    "duration": 746,
    "start_time": "2024-09-18T00:27:20.976Z"
   },
   {
    "duration": 97,
    "start_time": "2024-09-18T00:27:21.724Z"
   },
   {
    "duration": 72,
    "start_time": "2024-09-18T00:27:21.823Z"
   }
  ],
  "kernelspec": {
   "display_name": "Python 3 (ipykernel)",
   "language": "python",
   "name": "python3"
  },
  "language_info": {
   "codemirror_mode": {
    "name": "ipython",
    "version": 3
   },
   "file_extension": ".py",
   "mimetype": "text/x-python",
   "name": "python",
   "nbconvert_exporter": "python",
   "pygments_lexer": "ipython3",
   "version": "3.9.19"
  },
  "toc": {
   "base_numbering": 1,
   "nav_menu": {},
   "number_sections": true,
   "sideBar": true,
   "skip_h1_title": true,
   "title_cell": "Table of Contents",
   "title_sidebar": "Contents",
   "toc_cell": false,
   "toc_position": {},
   "toc_section_display": true,
   "toc_window_display": false
  },
  "vscode": {
   "interpreter": {
    "hash": "01a7be9ec63e704a62cefc5fe7a4756944464ee731be31632bdf42a4cb4688cf"
   }
  }
 },
 "nbformat": 4,
 "nbformat_minor": 5
}
